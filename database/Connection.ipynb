{
 "cells": [
  {
   "cell_type": "code",
   "execution_count": 2,
   "id": "63d83704",
   "metadata": {},
   "outputs": [],
   "source": [
    "from sqlalchemy import create_engine\n",
    "from sqlalchemy import Column, Integer, String, DateTime, Float, Boolean\n",
    "from sqlalchemy.orm import sessionmaker, relationship\n",
    "from sqlalchemy.ext.declarative import declarative_base\n",
    "\n",
    "import pandas as pd"
   ]
  },
  {
   "cell_type": "markdown",
   "id": "8ed45493",
   "metadata": {},
   "source": [
    "## Tables preparation"
   ]
  },
  {
   "cell_type": "code",
   "execution_count": null,
   "id": "4557ec0a",
   "metadata": {},
   "outputs": [],
   "source": [
    "Base = declarative_base()"
   ]
  },
  {
   "cell_type": "code",
   "execution_count": null,
   "id": "ba0af95e",
   "metadata": {},
   "outputs": [],
   "source": [
    "# games_for_sale table\n",
    "class GamesForSale(Base):\n",
    "    __tablename__ = 'games_for_sale'\n",
    "#     __table_args__ = {'schema':'games_for_sale'}\n",
    "    \n",
    "    game_id = Column(Integer, primary_key = True)\n",
    "    name = Column(String(250))\n",
    "    description = Column(String(250))\n",
    "    min_players = Column(Integer)\n",
    "    max_players = Column(Integer)\n",
    "    avg_time = Column(Integer)\n",
    "    avg_rating = Column(Float)\n",
    "    age = Column(Integer)\n",
    "    availability = Column(Integer)\n",
    "    category = Column(String(250))\n",
    "    price = Column(Float)"
   ]
  },
  {
   "cell_type": "code",
   "execution_count": null,
   "id": "264bdd45",
   "metadata": {},
   "outputs": [],
   "source": [
    "# games_to_rent table\n",
    "class GamesToRent(Base):\n",
    "    __tablename__ = 'games_to_rent'\n",
    "#     __table_args__ = {'schema':'games_to_rent'}\n",
    "    \n",
    "    item_id = Column(Integer, primary_key = True)\n",
    "    game_id = Column(Integer)\n",
    "    min_players = Column(Integer)\n",
    "    max_players = Column(Integer)\n",
    "    rent_price = Column(Integer)"
   ]
  },
  {
   "cell_type": "code",
   "execution_count": null,
   "id": "6d14e1ed",
   "metadata": {},
   "outputs": [],
   "source": [
    "# customer table\n",
    "class Customers(Base):\n",
    "    __tablename__ = 'customers'\n",
    "#     __table_args__ = {'schema':'customers'}\n",
    "    \n",
    "    customer_id = Column(Integer, primary_key = True)\n",
    "    first_name = Column(String(250))\n",
    "    last_name = Column(String(250))\n",
    "    gender = Column(String(250))\n",
    "    phone = Column(Integer)\n",
    "    email = Column(String(250))"
   ]
  },
  {
   "cell_type": "code",
   "execution_count": null,
   "id": "7a5df37a",
   "metadata": {},
   "outputs": [],
   "source": [
    "# staff table\n",
    "class Staff(Base):\n",
    "    __tablename__ = 'staff'\n",
    "#     __table_args__ = {'schema':'staff'}\n",
    "    \n",
    "    staff_id = Column(Integer, primary_key = True)\n",
    "    first_name = Column(String(250))\n",
    "    last_name = Column(String(250))\n",
    "    gender = Column(String(250))\n",
    "    phone = Column(Integer)\n",
    "    email = Column(String(250))"
   ]
  },
  {
   "cell_type": "code",
   "execution_count": null,
   "id": "b1324f62",
   "metadata": {},
   "outputs": [],
   "source": [
    "# competition table\n",
    "class Competition(Base):\n",
    "    __tablename__ = 'competition'\n",
    "#     __table_args__ = {'schema':'competition'}\n",
    "    \n",
    "    competition_id = Column(Integer, primary_key = True)\n",
    "    staff_id = Column(Integer)\n",
    "    game_id = Column(Integer)\n",
    "    date = Column(DateTime)\n",
    "    prize = Column(Integer)"
   ]
  },
  {
   "cell_type": "code",
   "execution_count": null,
   "id": "9684af49",
   "metadata": {},
   "outputs": [],
   "source": [
    "# competition_results table\n",
    "class CompetitionResults(Base):\n",
    "    __tablename__ = 'competition_results'\n",
    "#     __table_args__ = {'schema':'competition_results'}\n",
    "    \n",
    "    result_id = Column(Integer, primary_key = True)\n",
    "    competition_id = Column(Integer)\n",
    "    customer_id = Column(Integer)\n",
    "    place = Column(Integer)"
   ]
  },
  {
   "cell_type": "code",
   "execution_count": null,
   "id": "572189d2",
   "metadata": {},
   "outputs": [],
   "source": [
    "# sale table\n",
    "class Sale(Base):\n",
    "    __tablename__ = 'sale'\n",
    "#     __table_args__ = {'schema':'sale'}\n",
    "    \n",
    "    sale_id = Column(Integer, primary_key = True)\n",
    "    customer_id = Column(Integer)\n",
    "    staff_id = Column(Integer)\n",
    "    game_id = Column(Integer)\n",
    "    amount = Column(Integer)\n",
    "    date = Column(DateTime)"
   ]
  },
  {
   "cell_type": "code",
   "execution_count": null,
   "id": "a7195acc",
   "metadata": {},
   "outputs": [],
   "source": [
    "# rental table\n",
    "class Rental(Base):\n",
    "    __tablename__ = 'rental'\n",
    "#     __table_args__ = {'schema':'rental'}\n",
    "    \n",
    "    rental_id = Column(Integer, primary_key = True)\n",
    "    customer_id = Column(Integer)\n",
    "    staff_id = Column(Integer)\n",
    "    item_id = Column(Integer)\n",
    "    rental_date = Column(DateTime)\n",
    "    return_date = Column(DateTime)"
   ]
  },
  {
   "cell_type": "markdown",
   "id": "c040e807",
   "metadata": {},
   "source": [
    "## Connection with engine"
   ]
  },
  {
   "cell_type": "code",
   "execution_count": null,
   "id": "141cc2c6",
   "metadata": {},
   "outputs": [],
   "source": [
    "engine = create_engine('mysql+pymysql://team25:te@mzs@giniewicz.it:3306/team25')\n",
    "Base.metadata.create_all(engine)"
   ]
  },
  {
   "cell_type": "code",
   "execution_count": null,
   "id": "ae9e9643",
   "metadata": {},
   "outputs": [],
   "source": [
    "gamesforsale_df = pd.read_csv('games_for_sale.csv', sep = ',')\n",
    "gamesforsale_df.to_sql(con = engine,\n",
    "                      name = GamesForSale.__tablename__,\n",
    "                       if_exists = 'append',\n",
    "                       index = False)\n",
    "\n",
    "gamestorent_df = pd.read_csv('games_to_rent.csv', sep = ',')\n",
    "gamestorent_df.to_sql(con = engine,\n",
    "                      name = GamesToRent.__tablename__,\n",
    "                       if_exists = 'append',\n",
    "                       index = False)\n",
    "\n",
    "customers_df = pd.read_csv('customer.csv', sep = ',')\n",
    "customers_df.to_sql(con = engine,\n",
    "                      name = Customers.__tablename__,\n",
    "                       if_exists = 'append',\n",
    "                       index = False)\n",
    "\n",
    "staff_df = pd.read_csv('staff.csv', sep = ',')\n",
    "staff_df.to_sql(con = engine,\n",
    "                      name = Staff.__tablename__,\n",
    "                       if_exists = 'append',\n",
    "                       index = False)\n",
    "\n",
    "competition_df = pd.read_csv('competition.csv', sep = ',')\n",
    "competition_df.to_sql(con = engine,\n",
    "                      name = Competition.__tablename__,\n",
    "                       if_exists = 'append',\n",
    "                       index = False)\n",
    "\n",
    "competitionresults_df = pd.read_csv('competition_results.csv', sep = ',')\n",
    "competitionresults_df.to_sql(con = engine,\n",
    "                      name = CompetitionResults.__tablename__,\n",
    "                       if_exists = 'append',\n",
    "                       index = False)\n",
    "\n",
    "sale_df = pd.read_csv('sale.csv', sep = ',')\n",
    "sale_df.to_sql(con = engine,\n",
    "                      name = Sale.__tablename__,\n",
    "                       if_exists = 'append',\n",
    "                       index = False)\n",
    "\n",
    "## Tutaj miejsce na dalsze csvki ..."
   ]
  },
  {
   "cell_type": "markdown",
   "id": "f2bade39",
   "metadata": {},
   "source": [
    "## Closing connection"
   ]
  },
  {
   "cell_type": "code",
   "execution_count": null,
   "id": "b3cd224e",
   "metadata": {},
   "outputs": [],
   "source": [
    "connection.close()"
   ]
  },
  {
   "cell_type": "code",
   "execution_count": null,
   "id": "02b2a814",
   "metadata": {},
   "outputs": [],
   "source": []
  },
  {
   "cell_type": "markdown",
   "id": "a38cd5bf",
   "metadata": {},
   "source": [
    "https://stackoverflow.com/questions/31394998/using-sqlalchemy-to-load-csv-file-into-a-database\n",
    "\n",
    "https://www.youtube.com/watch?v=oNky1SUC5Ak"
   ]
  }
 ],
 "metadata": {
  "kernelspec": {
   "display_name": "Python 3 (ipykernel)",
   "language": "python",
   "name": "python3"
  },
  "language_info": {
   "codemirror_mode": {
    "name": "ipython",
    "version": 3
   },
   "file_extension": ".py",
   "mimetype": "text/x-python",
   "name": "python",
   "nbconvert_exporter": "python",
   "pygments_lexer": "ipython3",
   "version": "3.9.7"
  }
 },
 "nbformat": 4,
 "nbformat_minor": 5
}
