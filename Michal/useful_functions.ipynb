{
 "cells": [
  {
   "cell_type": "code",
   "execution_count": 2,
   "id": "9a114edc",
   "metadata": {},
   "outputs": [],
   "source": [
    "import numpy as np\n",
    "import pandas as pd\n",
    "import math\n",
    "from selenium import webdriver\n",
    "from selenium.webdriver.edge.service import Service\n",
    "from selenium.webdriver.edge.options import Options\n",
    "\n",
    "import json\n",
    "from bs4 import BeautifulSoup\n",
    "import requests\n",
    "import re"
   ]
  },
  {
   "cell_type": "code",
   "execution_count": 3,
   "id": "a40b41b6",
   "metadata": {},
   "outputs": [],
   "source": [
    "\"\"\"Finds a description for each game in the dataset. Applies it to a dataframe.\"\"\"\n",
    "def find_description(df):\n",
    "    url_list = df.bgg_url.values\n",
    "    descriptions = []\n",
    "    for url in url_list:\n",
    "        response = requests.get(url)\n",
    "        response.raise_for_status()\n",
    "        html_content = response.text\n",
    "        soup = BeautifulSoup(html_content, 'html.parser')\n",
    "        script_element = soup.find('script', type='application/ld+json').string\n",
    "        data = json.loads(script_element)\n",
    "        description = data.get('description')\n",
    "        descriptions.append(description)\n",
    "    df.insert(4, 'description', descriptions)\n",
    "    return df"
   ]
  },
  {
   "cell_type": "code",
   "execution_count": 4,
   "id": "44bccdfc",
   "metadata": {},
   "outputs": [],
   "source": [
    "\"\"\"Finds a price for each game in the dataset. Applies it to a dataframe.\"\"\"\n",
    "def find_price(df):\n",
    "    url_list = df.bgg_url.values\n",
    "    prices = np.zeros(len(url_list))\n",
    "    \n",
    "    driver_path = r\"C:\\Users\\20meh\\EdgeWebDriver\\msedgedriver.exe\"\n",
    "    options = Options()\n",
    "    options.add_argument('--headless')\n",
    "    service = Service(driver_path)\n",
    "    for i in range(len(url_list)):\n",
    "        driver = webdriver.Edge(service=service, options=options)\n",
    "        driver.get(url_list[i])\n",
    "        html = driver.page_source\n",
    "        driver.quit()\n",
    "        soup = BeautifulSoup(html, 'html.parser')\n",
    "        try:\n",
    "            price_block = soup.find('li', class_ = 'summary-item summary-sale-item ng-scope')\n",
    "            price = price_block.find('strong', class_ = 'ng-binding').string.replace(',', '.')\n",
    "            price = float(re.findall(r\"\\d+\\.\\d+\", price)[0])\n",
    "        except:\n",
    "            try:\n",
    "                price_block = soup.find_all('li', class_ = 'summary-item summary-sale-item ng-scope')[1]\n",
    "                price = price_block.find('strong', class_ = 'ng-binding').string.replace(',', '.')\n",
    "                price = float(re.findall(r\"\\d+\\.\\d+\", price)[0])\n",
    "            except:\n",
    "                price = None\n",
    "        prices[i] = price\n",
    "    df_copy = df.copy()\n",
    "    df_copy['price'] = prices\n",
    "    return df_copy"
   ]
  },
  {
   "cell_type": "code",
   "execution_count": null,
   "id": "5f5d00fe",
   "metadata": {},
   "outputs": [],
   "source": []
  }
 ],
 "metadata": {
  "kernelspec": {
   "display_name": "Python 3 (ipykernel)",
   "language": "python",
   "name": "python3"
  },
  "language_info": {
   "codemirror_mode": {
    "name": "ipython",
    "version": 3
   },
   "file_extension": ".py",
   "mimetype": "text/x-python",
   "name": "python",
   "nbconvert_exporter": "python",
   "pygments_lexer": "ipython3",
   "version": "3.9.7"
  }
 },
 "nbformat": 4,
 "nbformat_minor": 5
}
