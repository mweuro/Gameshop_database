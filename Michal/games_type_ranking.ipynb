{
 "cells": [
  {
   "cell_type": "code",
   "execution_count": 172,
   "id": "7e289604",
   "metadata": {},
   "outputs": [],
   "source": [
    "from sqlalchemy import create_engine, MetaData, Table\n",
    "from sqlalchemy.orm import sessionmaker\n",
    "from urllib.parse import quote\n",
    "\n",
    "import pandas as pd\n",
    "import numpy as np\n",
    "import matplotlib.pyplot as plt\n",
    "import seaborn as sns\n",
    "\n",
    "import warnings\n",
    "warnings.filterwarnings('ignore')"
   ]
  },
  {
   "cell_type": "markdown",
   "id": "8a9e3be4",
   "metadata": {},
   "source": [
    "## Załadowanie bazy danych"
   ]
  },
  {
   "cell_type": "code",
   "execution_count": 69,
   "id": "c8dd1b1b",
   "metadata": {},
   "outputs": [],
   "source": [
    "username = 'team25'\n",
    "password = quote('te@mzs')\n",
    "database = 'team25'\n",
    "host = 'giniewicz.it'\n",
    "port = '3306'\n",
    "\n",
    "engine = create_engine(f'mysql+pymysql://{username}:{password}@{host}:{port}/{database}')\n",
    "\n",
    "metadata = MetaData()\n",
    "games_for_sale = Table('games_for_sale', metadata, autoload_with = engine)\n",
    "games_to_rent = Table('games_to_rent', metadata, autoload_with = engine)\n",
    "customers = Table('customers', metadata, autoload_with = engine)\n",
    "staff = Table('staff', metadata, autoload_with = engine)\n",
    "sale = Table('sale', metadata, autoload_with = engine)\n",
    "rental = Table('rental', metadata, autoload_with = engine)\n",
    "competition = Table('competition', metadata, autoload_with = engine)\n",
    "competition_results = Table('competition_results', metadata, autoload_with = engine)\n",
    "\n",
    "connection = engine.connect()"
   ]
  },
  {
   "cell_type": "code",
   "execution_count": 72,
   "id": "99742138",
   "metadata": {},
   "outputs": [],
   "source": [
    "\"\"\"Funkcja łącząca dwie tabele po podanych kluczach\"\"\"\n",
    "def join_tables(table1, table2, key1, key2):\n",
    "#     key1, key2 = string(key1), string(key2)\n",
    "    Session = sessionmaker(bind = engine)\n",
    "    session = Session()\n",
    "    query = session.query(table1, table2).filter(getattr(table1.c, key1) == getattr(table2.c, key2)).all()\n",
    "    column_names = query[0].keys()\n",
    "    df = pd.DataFrame(query, columns = column_names)\n",
    "    return df"
   ]
  },
  {
   "cell_type": "markdown",
   "id": "fd0f7580",
   "metadata": {},
   "source": [
    "## Problem 1 - ranking na pracownika miesiąca"
   ]
  },
  {
   "cell_type": "markdown",
   "id": "121656e0",
   "metadata": {},
   "source": [
    "Pracownika miesiąca można rozumieć jako:\n",
    "* tego co sprzedał/wypożyczył największą ilość gier\n",
    "* tego co osiągnął największy przychód z gier"
   ]
  },
  {
   "cell_type": "code",
   "execution_count": 210,
   "id": "f88d0445",
   "metadata": {},
   "outputs": [],
   "source": [
    "\"\"\"Funkcja tworzy wykres słupkowy rankingu dla przykładowego miesiąca\"\"\"\n",
    "def month_ranking_example(df, xlab, year = 2023, month = 5):\n",
    "    month_names = {1 : 'Styczeń',\n",
    "                  2 : 'Luty',\n",
    "                  3 : 'Marzec',\n",
    "                  4 : 'Kwiecień',\n",
    "                  5 : 'Maj',\n",
    "                  6 : 'Czerwiec',\n",
    "                  7 : 'Lipiec',\n",
    "                  8 : 'Sierpień',\n",
    "                  9 : 'Wrzesień', \n",
    "                  10 : 'Październik',\n",
    "                  11 : 'Listopad', \n",
    "                  12 : 'Grudzień'}\n",
    "    df = df.xs(year, level = 'year').xs(month, level = 'month')[:5].sort_values(ascending = False)\n",
    "    plt.style.use('bmh')\n",
    "    fig, ax = plt.subplots(figsize = (15, 7))\n",
    "    ax = sns.barplot(x = df.values, y = df.index, orient='h', palette = ['goldenrod', 'silver', 'sienna', 'powderblue' , 'powderblue'])\n",
    "    ax.bar_label(ax.containers[0], fmt= '%.0f', label_type='edge')\n",
    "    ax.set_xlabel(xlab)\n",
    "    ax.set_ylabel('')\n",
    "    ax.set_title('Ranking miesiąca: ' + month_names[month] + ' ' + str(year))\n",
    "    plt.show()"
   ]
  },
  {
   "cell_type": "code",
   "execution_count": 106,
   "id": "93c4c071",
   "metadata": {},
   "outputs": [
    {
     "data": {
      "text/html": [
       "<div>\n",
       "<style scoped>\n",
       "    .dataframe tbody tr th:only-of-type {\n",
       "        vertical-align: middle;\n",
       "    }\n",
       "\n",
       "    .dataframe tbody tr th {\n",
       "        vertical-align: top;\n",
       "    }\n",
       "\n",
       "    .dataframe thead th {\n",
       "        text-align: right;\n",
       "    }\n",
       "</style>\n",
       "<table border=\"1\" class=\"dataframe\">\n",
       "  <thead>\n",
       "    <tr style=\"text-align: right;\">\n",
       "      <th></th>\n",
       "      <th>staff_id</th>\n",
       "      <th>amount</th>\n",
       "      <th>date</th>\n",
       "      <th>first_name</th>\n",
       "      <th>last_name</th>\n",
       "    </tr>\n",
       "  </thead>\n",
       "  <tbody>\n",
       "    <tr>\n",
       "      <th>0</th>\n",
       "      <td>11</td>\n",
       "      <td>67.40</td>\n",
       "      <td>2021-06-02</td>\n",
       "      <td>Mateusz</td>\n",
       "      <td>Kowalski</td>\n",
       "    </tr>\n",
       "    <tr>\n",
       "      <th>1</th>\n",
       "      <td>5</td>\n",
       "      <td>424.80</td>\n",
       "      <td>2021-06-02</td>\n",
       "      <td>Zuzanna</td>\n",
       "      <td>Brzozowska</td>\n",
       "    </tr>\n",
       "    <tr>\n",
       "      <th>2</th>\n",
       "      <td>3</td>\n",
       "      <td>938.40</td>\n",
       "      <td>2021-06-02</td>\n",
       "      <td>Jan</td>\n",
       "      <td>Błotny</td>\n",
       "    </tr>\n",
       "    <tr>\n",
       "      <th>3</th>\n",
       "      <td>13</td>\n",
       "      <td>112.78</td>\n",
       "      <td>2021-06-02</td>\n",
       "      <td>Jakub</td>\n",
       "      <td>Kozioł</td>\n",
       "    </tr>\n",
       "    <tr>\n",
       "      <th>4</th>\n",
       "      <td>8</td>\n",
       "      <td>199.80</td>\n",
       "      <td>2021-06-04</td>\n",
       "      <td>Kacper</td>\n",
       "      <td>Reszke</td>\n",
       "    </tr>\n",
       "  </tbody>\n",
       "</table>\n",
       "</div>"
      ],
      "text/plain": [
       "   staff_id  amount        date first_name   last_name\n",
       "0        11   67.40  2021-06-02    Mateusz    Kowalski\n",
       "1         5  424.80  2021-06-02    Zuzanna  Brzozowska\n",
       "2         3  938.40  2021-06-02        Jan      Błotny\n",
       "3        13  112.78  2021-06-02      Jakub      Kozioł\n",
       "4         8  199.80  2021-06-04     Kacper      Reszke"
      ]
     },
     "execution_count": 106,
     "metadata": {},
     "output_type": "execute_result"
    }
   ],
   "source": [
    "df1_sale = join_tables(sale, staff, 'staff_id', 'staff_id')\n",
    "df1_sale = df1_sale.loc[:, ~df1_sale.columns.duplicated()]\n",
    "df1_sale = df1_sale[['staff_id', 'amount', 'date', 'first_name', 'last_name']]\n",
    "df1_sale.head()"
   ]
  },
  {
   "cell_type": "code",
   "execution_count": 107,
   "id": "8ab3b597",
   "metadata": {},
   "outputs": [
    {
     "data": {
      "text/html": [
       "<div>\n",
       "<style scoped>\n",
       "    .dataframe tbody tr th:only-of-type {\n",
       "        vertical-align: middle;\n",
       "    }\n",
       "\n",
       "    .dataframe tbody tr th {\n",
       "        vertical-align: top;\n",
       "    }\n",
       "\n",
       "    .dataframe thead th {\n",
       "        text-align: right;\n",
       "    }\n",
       "</style>\n",
       "<table border=\"1\" class=\"dataframe\">\n",
       "  <thead>\n",
       "    <tr style=\"text-align: right;\">\n",
       "      <th></th>\n",
       "      <th>staff_id</th>\n",
       "      <th>amount</th>\n",
       "      <th>date</th>\n",
       "      <th>full_name</th>\n",
       "    </tr>\n",
       "  </thead>\n",
       "  <tbody>\n",
       "    <tr>\n",
       "      <th>0</th>\n",
       "      <td>11</td>\n",
       "      <td>67.40</td>\n",
       "      <td>2021-06-02</td>\n",
       "      <td>Mateusz Kowalski</td>\n",
       "    </tr>\n",
       "    <tr>\n",
       "      <th>1</th>\n",
       "      <td>5</td>\n",
       "      <td>424.80</td>\n",
       "      <td>2021-06-02</td>\n",
       "      <td>Zuzanna Brzozowska</td>\n",
       "    </tr>\n",
       "    <tr>\n",
       "      <th>2</th>\n",
       "      <td>3</td>\n",
       "      <td>938.40</td>\n",
       "      <td>2021-06-02</td>\n",
       "      <td>Jan Błotny</td>\n",
       "    </tr>\n",
       "    <tr>\n",
       "      <th>3</th>\n",
       "      <td>13</td>\n",
       "      <td>112.78</td>\n",
       "      <td>2021-06-02</td>\n",
       "      <td>Jakub Kozioł</td>\n",
       "    </tr>\n",
       "    <tr>\n",
       "      <th>4</th>\n",
       "      <td>8</td>\n",
       "      <td>199.80</td>\n",
       "      <td>2021-06-04</td>\n",
       "      <td>Kacper Reszke</td>\n",
       "    </tr>\n",
       "  </tbody>\n",
       "</table>\n",
       "</div>"
      ],
      "text/plain": [
       "   staff_id  amount        date           full_name\n",
       "0        11   67.40  2021-06-02    Mateusz Kowalski\n",
       "1         5  424.80  2021-06-02  Zuzanna Brzozowska\n",
       "2         3  938.40  2021-06-02          Jan Błotny\n",
       "3        13  112.78  2021-06-02        Jakub Kozioł\n",
       "4         8  199.80  2021-06-04       Kacper Reszke"
      ]
     },
     "execution_count": 107,
     "metadata": {},
     "output_type": "execute_result"
    }
   ],
   "source": [
    "df1_sale['full_name'] = df1_sale['first_name'] + ' ' + df1_sale['last_name']\n",
    "df1_sale = df1_sale.drop(['first_name', 'last_name'], axis = 1)\n",
    "df1_sale.head()"
   ]
  },
  {
   "cell_type": "code",
   "execution_count": 108,
   "id": "561b482f",
   "metadata": {},
   "outputs": [
    {
     "data": {
      "text/html": [
       "<div>\n",
       "<style scoped>\n",
       "    .dataframe tbody tr th:only-of-type {\n",
       "        vertical-align: middle;\n",
       "    }\n",
       "\n",
       "    .dataframe tbody tr th {\n",
       "        vertical-align: top;\n",
       "    }\n",
       "\n",
       "    .dataframe thead th {\n",
       "        text-align: right;\n",
       "    }\n",
       "</style>\n",
       "<table border=\"1\" class=\"dataframe\">\n",
       "  <thead>\n",
       "    <tr style=\"text-align: right;\">\n",
       "      <th></th>\n",
       "      <th>staff_id</th>\n",
       "      <th>amount</th>\n",
       "      <th>date</th>\n",
       "      <th>full_name</th>\n",
       "      <th>day</th>\n",
       "      <th>month</th>\n",
       "      <th>year</th>\n",
       "    </tr>\n",
       "  </thead>\n",
       "  <tbody>\n",
       "    <tr>\n",
       "      <th>0</th>\n",
       "      <td>11</td>\n",
       "      <td>67.40</td>\n",
       "      <td>2021-06-02</td>\n",
       "      <td>Mateusz Kowalski</td>\n",
       "      <td>2</td>\n",
       "      <td>6</td>\n",
       "      <td>2021</td>\n",
       "    </tr>\n",
       "    <tr>\n",
       "      <th>1</th>\n",
       "      <td>5</td>\n",
       "      <td>424.80</td>\n",
       "      <td>2021-06-02</td>\n",
       "      <td>Zuzanna Brzozowska</td>\n",
       "      <td>2</td>\n",
       "      <td>6</td>\n",
       "      <td>2021</td>\n",
       "    </tr>\n",
       "    <tr>\n",
       "      <th>2</th>\n",
       "      <td>3</td>\n",
       "      <td>938.40</td>\n",
       "      <td>2021-06-02</td>\n",
       "      <td>Jan Błotny</td>\n",
       "      <td>2</td>\n",
       "      <td>6</td>\n",
       "      <td>2021</td>\n",
       "    </tr>\n",
       "    <tr>\n",
       "      <th>3</th>\n",
       "      <td>13</td>\n",
       "      <td>112.78</td>\n",
       "      <td>2021-06-02</td>\n",
       "      <td>Jakub Kozioł</td>\n",
       "      <td>2</td>\n",
       "      <td>6</td>\n",
       "      <td>2021</td>\n",
       "    </tr>\n",
       "    <tr>\n",
       "      <th>4</th>\n",
       "      <td>8</td>\n",
       "      <td>199.80</td>\n",
       "      <td>2021-06-04</td>\n",
       "      <td>Kacper Reszke</td>\n",
       "      <td>4</td>\n",
       "      <td>6</td>\n",
       "      <td>2021</td>\n",
       "    </tr>\n",
       "  </tbody>\n",
       "</table>\n",
       "</div>"
      ],
      "text/plain": [
       "   staff_id  amount        date           full_name  day  month  year\n",
       "0        11   67.40  2021-06-02    Mateusz Kowalski    2      6  2021\n",
       "1         5  424.80  2021-06-02  Zuzanna Brzozowska    2      6  2021\n",
       "2         3  938.40  2021-06-02          Jan Błotny    2      6  2021\n",
       "3        13  112.78  2021-06-02        Jakub Kozioł    2      6  2021\n",
       "4         8  199.80  2021-06-04       Kacper Reszke    4      6  2021"
      ]
     },
     "execution_count": 108,
     "metadata": {},
     "output_type": "execute_result"
    }
   ],
   "source": [
    "df1_sale['day'] = pd.to_datetime(df1_sale['date']).dt.day\n",
    "df1_sale['month'] = pd.to_datetime(df1_sale['date']).dt.month\n",
    "df1_sale['year'] = pd.to_datetime(df1_sale['date']).dt.year\n",
    "df1_sale.head()"
   ]
  },
  {
   "cell_type": "markdown",
   "id": "b3d569a2",
   "metadata": {},
   "source": [
    "### Ranking na największy przychód"
   ]
  },
  {
   "cell_type": "markdown",
   "id": "c9066b4d",
   "metadata": {},
   "source": [
    "### Ranking na największą ilość sprzedanych gier"
   ]
  },
  {
   "cell_type": "code",
   "execution_count": 129,
   "id": "03baf05f",
   "metadata": {},
   "outputs": [
    {
     "data": {
      "text/plain": [
       "year  month  full_name             \n",
       "2021  6      Aleksander Magdaleński     4167.70\n",
       "             Aleksander Szymaszczyk     2762.26\n",
       "             Antonina Hemmerling        3992.07\n",
       "             Bartosz Hetman             2718.87\n",
       "             Filip Pawlaczyk            1823.59\n",
       "                                         ...   \n",
       "2023  6      Nikodem Pryczek           23746.09\n",
       "             Oliwia Gollasch           19882.18\n",
       "             Tymoteusz Wieczorek       20741.43\n",
       "             Weronika Bloch            22540.10\n",
       "             Zuzanna Brzozowska        24640.12\n",
       "Name: amount, Length: 425, dtype: float64"
      ]
     },
     "execution_count": 129,
     "metadata": {},
     "output_type": "execute_result"
    }
   ],
   "source": [
    "best_staff = df1_sale.groupby(['year', 'month', 'full_name'])['amount'].sum()\n",
    "best_staff"
   ]
  },
  {
   "cell_type": "code",
   "execution_count": 211,
   "id": "764d8a59",
   "metadata": {},
   "outputs": [
    {
     "data": {
      "image/png": "[encoded data removed]",
      "text/plain": [
       "<Figure size 1080x504 with 1 Axes>"
      ]
     },
     "metadata": {
      "needs_background": "light"
     },
     "output_type": "display_data"
    }
   ],
   "source": [
    "month_ranking_example(best_staff, 'Całkowity przychód', 2022, 11)"
   ]
  },
  {
   "cell_type": "code",
   "execution_count": 174,
   "id": "59c693c8",
   "metadata": {},
   "outputs": [
    {
     "data": {
      "text/plain": [
       "year  month  full_name             \n",
       "2021  6      Aleksander Magdaleński    10\n",
       "             Aleksander Szymaszczyk    12\n",
       "             Antonina Hemmerling       14\n",
       "             Bartosz Hetman            15\n",
       "             Filip Pawlaczyk           11\n",
       "                                       ..\n",
       "2023  6      Nikodem Pryczek           96\n",
       "             Oliwia Gollasch           83\n",
       "             Tymoteusz Wieczorek       83\n",
       "             Weronika Bloch            91\n",
       "             Zuzanna Brzozowska        78\n",
       "Name: full_name, Length: 425, dtype: int64"
      ]
     },
     "execution_count": 174,
     "metadata": {},
     "output_type": "execute_result"
    }
   ],
   "source": [
    "best_count = df1_sale.groupby(['year', 'month', 'full_name'])['full_name'].count()\n",
    "best_count"
   ]
  },
  {
   "cell_type": "code",
   "execution_count": 212,
   "id": "e631c68a",
   "metadata": {},
   "outputs": [
    {
     "data": {
      "image/png": "[encoded data removed]",
      "text/plain": [
       "<Figure size 1080x504 with 1 Axes>"
      ]
     },
     "metadata": {
      "needs_background": "light"
     },
     "output_type": "display_data"
    }
   ],
   "source": [
    "month_ranking_example(best_count, 'Liczba sprzedanych egzemplarzy', 2022, 11)"
   ]
  },
  {
   "cell_type": "markdown",
   "id": "3c90ad9d",
   "metadata": {},
   "source": [
    "## Problem 2 - top 10 zawodników turniejowych"
   ]
  },
  {
   "cell_type": "code",
   "execution_count": null,
   "id": "e404437d",
   "metadata": {},
   "outputs": [],
   "source": []
  },
  {
   "cell_type": "markdown",
   "id": "d978d828",
   "metadata": {},
   "source": [
    "## Problem 3 - gry najbardziej dochodowe"
   ]
  },
  {
   "cell_type": "code",
   "execution_count": null,
   "id": "2560fc08",
   "metadata": {},
   "outputs": [],
   "source": []
  },
  {
   "cell_type": "markdown",
   "id": "5fb31d9d",
   "metadata": {},
   "source": [
    "## Problem 4 - najpopularniejsze kategorie"
   ]
  },
  {
   "cell_type": "code",
   "execution_count": 66,
   "id": "ee9e0efc",
   "metadata": {},
   "outputs": [],
   "source": [
    "def best_categories(df): # podać dataframe z kolumną category\n",
    "    categories = df.category.values\n",
    "    splitted = []\n",
    "    for category in categories:\n",
    "        category_split = category.split(', ')\n",
    "        for indice in category_split:\n",
    "            splitted.append(indice)\n",
    "    splitted = np.array(splitted)\n",
    "    splitted_series = pd.DataFrame(splitted)\n",
    "    splitted_series.columns = ['Category']\n",
    "    \n",
    "    popularity = splitted_series.value_counts().reset_index()\n",
    "    popularity.columns = ['Category', 'Count']\n",
    "    first10 = popularity[:10]\n",
    "    \n",
    "    plt.style.use('bmh')\n",
    "    fig, ax = plt.subplots()\n",
    "    ax.bar(first10['Category'], first10['Count'])\n",
    "    ax.set_xticklabels(first10['Category'], rotation = 90)\n",
    "    ax.set_ylabel('Number of games')\n",
    "    plt.show()"
   ]
  },
  {
   "cell_type": "code",
   "execution_count": 78,
   "id": "b12ce8c7",
   "metadata": {},
   "outputs": [
    {
     "data": {
      "text/html": [
       "<div>\n",
       "<style scoped>\n",
       "    .dataframe tbody tr th:only-of-type {\n",
       "        vertical-align: middle;\n",
       "    }\n",
       "\n",
       "    .dataframe tbody tr th {\n",
       "        vertical-align: top;\n",
       "    }\n",
       "\n",
       "    .dataframe thead th {\n",
       "        text-align: right;\n",
       "    }\n",
       "</style>\n",
       "<table border=\"1\" class=\"dataframe\">\n",
       "  <thead>\n",
       "    <tr style=\"text-align: right;\">\n",
       "      <th></th>\n",
       "      <th>game_id</th>\n",
       "      <th>name</th>\n",
       "      <th>description</th>\n",
       "      <th>min_players</th>\n",
       "      <th>max_players</th>\n",
       "      <th>avg_time</th>\n",
       "      <th>avg_rating</th>\n",
       "      <th>age</th>\n",
       "      <th>availability</th>\n",
       "      <th>category</th>\n",
       "      <th>price</th>\n",
       "      <th>rent_price</th>\n",
       "      <th>sale_id</th>\n",
       "      <th>customer_id</th>\n",
       "      <th>staff_id</th>\n",
       "      <th>amount</th>\n",
       "      <th>date</th>\n",
       "    </tr>\n",
       "  </thead>\n",
       "  <tbody>\n",
       "    <tr>\n",
       "      <th>0</th>\n",
       "      <td>177490</td>\n",
       "      <td>Samara</td>\n",
       "      <td>Manage time, talent, and tools to efficiently ...</td>\n",
       "      <td>2</td>\n",
       "      <td>5</td>\n",
       "      <td>50</td>\n",
       "      <td>6.37790</td>\n",
       "      <td>10</td>\n",
       "      <td>759</td>\n",
       "      <td>City Building, Medieval</td>\n",
       "      <td>44.40</td>\n",
       "      <td>2</td>\n",
       "      <td>1</td>\n",
       "      <td>NaN</td>\n",
       "      <td>11</td>\n",
       "      <td>67.40</td>\n",
       "      <td>2021-06-02</td>\n",
       "    </tr>\n",
       "    <tr>\n",
       "      <th>1</th>\n",
       "      <td>105023</td>\n",
       "      <td>Fleet Commander: Nimitz</td>\n",
       "      <td>None</td>\n",
       "      <td>1</td>\n",
       "      <td>1</td>\n",
       "      <td>180</td>\n",
       "      <td>6.97894</td>\n",
       "      <td>0</td>\n",
       "      <td>627</td>\n",
       "      <td>Nautical, Wargame, World War II</td>\n",
       "      <td>421.80</td>\n",
       "      <td>5</td>\n",
       "      <td>2</td>\n",
       "      <td>NaN</td>\n",
       "      <td>5</td>\n",
       "      <td>424.80</td>\n",
       "      <td>2021-06-02</td>\n",
       "    </tr>\n",
       "    <tr>\n",
       "      <th>2</th>\n",
       "      <td>8993</td>\n",
       "      <td>Fire in the East</td>\n",
       "      <td>None</td>\n",
       "      <td>2</td>\n",
       "      <td>4</td>\n",
       "      <td>3000</td>\n",
       "      <td>7.47978</td>\n",
       "      <td>12</td>\n",
       "      <td>669</td>\n",
       "      <td>Wargame, World War II</td>\n",
       "      <td>932.40</td>\n",
       "      <td>10</td>\n",
       "      <td>3</td>\n",
       "      <td>NaN</td>\n",
       "      <td>3</td>\n",
       "      <td>938.40</td>\n",
       "      <td>2021-06-02</td>\n",
       "    </tr>\n",
       "    <tr>\n",
       "      <th>3</th>\n",
       "      <td>3236</td>\n",
       "      <td>WildLife</td>\n",
       "      <td>Fight for survival as one of six animal (or hu...</td>\n",
       "      <td>2</td>\n",
       "      <td>6</td>\n",
       "      <td>120</td>\n",
       "      <td>6.68021</td>\n",
       "      <td>10</td>\n",
       "      <td>1629</td>\n",
       "      <td>Animals, Prehistoric</td>\n",
       "      <td>110.78</td>\n",
       "      <td>5</td>\n",
       "      <td>4</td>\n",
       "      <td>NaN</td>\n",
       "      <td>13</td>\n",
       "      <td>112.78</td>\n",
       "      <td>2021-06-02</td>\n",
       "    </tr>\n",
       "    <tr>\n",
       "      <th>4</th>\n",
       "      <td>205078</td>\n",
       "      <td>Barcelona: The Rose of Fire</td>\n",
       "      <td>None</td>\n",
       "      <td>2</td>\n",
       "      <td>4</td>\n",
       "      <td>90</td>\n",
       "      <td>6.55020</td>\n",
       "      <td>10</td>\n",
       "      <td>325</td>\n",
       "      <td>City Building</td>\n",
       "      <td>199.80</td>\n",
       "      <td>5</td>\n",
       "      <td>5</td>\n",
       "      <td>NaN</td>\n",
       "      <td>8</td>\n",
       "      <td>199.80</td>\n",
       "      <td>2021-06-04</td>\n",
       "    </tr>\n",
       "  </tbody>\n",
       "</table>\n",
       "</div>"
      ],
      "text/plain": [
       "   game_id                         name  \\\n",
       "0   177490                       Samara   \n",
       "1   105023      Fleet Commander: Nimitz   \n",
       "2     8993             Fire in the East   \n",
       "3     3236                     WildLife   \n",
       "4   205078  Barcelona: The Rose of Fire   \n",
       "\n",
       "                                         description  min_players  \\\n",
       "0  Manage time, talent, and tools to efficiently ...            2   \n",
       "1                                               None            1   \n",
       "2                                               None            2   \n",
       "3  Fight for survival as one of six animal (or hu...            2   \n",
       "4                                               None            2   \n",
       "\n",
       "   max_players  avg_time  avg_rating  age  availability  \\\n",
       "0            5        50     6.37790   10           759   \n",
       "1            1       180     6.97894    0           627   \n",
       "2            4      3000     7.47978   12           669   \n",
       "3            6       120     6.68021   10          1629   \n",
       "4            4        90     6.55020   10           325   \n",
       "\n",
       "                          category   price  rent_price  sale_id  customer_id  \\\n",
       "0          City Building, Medieval   44.40           2        1          NaN   \n",
       "1  Nautical, Wargame, World War II  421.80           5        2          NaN   \n",
       "2            Wargame, World War II  932.40          10        3          NaN   \n",
       "3             Animals, Prehistoric  110.78           5        4          NaN   \n",
       "4                    City Building  199.80           5        5          NaN   \n",
       "\n",
       "   staff_id  amount        date  \n",
       "0        11   67.40  2021-06-02  \n",
       "1         5  424.80  2021-06-02  \n",
       "2         3  938.40  2021-06-02  \n",
       "3        13  112.78  2021-06-02  \n",
       "4         8  199.80  2021-06-04  "
      ]
     },
     "execution_count": 78,
     "metadata": {},
     "output_type": "execute_result"
    }
   ],
   "source": [
    "df4 = join_tables(games_for_sale, sale, 'game_id', 'game_id')\n",
    "df4 = df4.loc[:, ~df4.columns.duplicated()]\n",
    "df4.head()"
   ]
  },
  {
   "cell_type": "code",
   "execution_count": 67,
   "id": "5e8f12f7",
   "metadata": {},
   "outputs": [
    {
     "data": {
      "image/png": "[encoded data removed]",
      "text/plain": [
       "<Figure size 432x288 with 1 Axes>"
      ]
     },
     "metadata": {
      "needs_background": "light"
     },
     "output_type": "display_data"
    }
   ],
   "source": [
    "ctgr = best_categories(df4)\n",
    "ctgr"
   ]
  },
  {
   "cell_type": "code",
   "execution_count": null,
   "id": "28b47e49",
   "metadata": {},
   "outputs": [],
   "source": []
  }
 ],
 "metadata": {
  "kernelspec": {
   "display_name": "Python 3 (ipykernel)",
   "language": "python",
   "name": "python3"
  },
  "language_info": {
   "codemirror_mode": {
    "name": "ipython",
    "version": 3
   },
   "file_extension": ".py",
   "mimetype": "text/x-python",
   "name": "python",
   "nbconvert_exporter": "python",
   "pygments_lexer": "ipython3",
   "version": "3.9.7"
  }
 },
 "nbformat": 4,
 "nbformat_minor": 5
}
