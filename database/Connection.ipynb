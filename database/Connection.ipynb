{
 "cells": [
  {
   "cell_type": "code",
   "execution_count": 5,
   "id": "51335701",
   "metadata": {},
   "outputs": [],
   "source": [
    "from sqlalchemy import create_engine\n",
    "from sqlalchemy import Column, Integer, String, Datetime, Float, Boolean\n",
    "from sqlalchemy.orm import sessionmaker, relationship\n",
    "from sqlalchemy.ext.declarative import declarative_base"
   ]
  },
  {
   "cell_type": "code",
   "execution_count": null,
   "id": "8319e1cc",
   "metadata": {},
   "outputs": [],
   "source": [
    "engine = create_engine('mysql+pymysql://team25:te@mzs@giniewicz.it:3306/team25')\n",
    "# connection = engine.connect()\n",
    "# connection.close()"
   ]
  },
  {
   "cell_type": "code",
   "execution_count": null,
   "id": "7acc5a9f",
   "metadata": {},
   "outputs": [],
   "source": [
    "Base = declarative_base()"
   ]
  },
  {
   "cell_type": "code",
   "execution_count": null,
   "id": "f7d481f0",
   "metadata": {},
   "outputs": [],
   "source": [
    "# games_for_sale table\n",
    "class GamesForSale(Base):\n",
    "    __tablename__ = 'games_for_sale'\n",
    "    __table_args__ = {'schema':'games_for_sale'}\n",
    "    \n",
    "    game_id = Column(Integer, primary_key = True)\n",
    "    names = Column(String(250))\n",
    "    description = Column(String(250))\n",
    "    min_players = Column(Integer)\n",
    "    max_players = Column(Integer)\n",
    "    avg_time = Column(Integer)\n",
    "    avg_rating = Column(Float)\n",
    "    age = Column(Integer)\n",
    "    mechanic = Column(String(250))\n",
    "    owned = Column(Integer)\n",
    "    category = Column(String(250))\n",
    "    price = Column(Float)"
   ]
  },
  {
   "cell_type": "code",
   "execution_count": null,
   "id": "2ca8f2e4",
   "metadata": {},
   "outputs": [],
   "source": [
    "# games_to_rent table\n",
    "class GamesToRent(Base):\n",
    "    __tablename__ = 'games_to_rent'\n",
    "    __table_args__ = {'schema':'games_to_rent'}\n",
    "    \n",
    "    item_id = Column(Integer, primary_key = True)\n",
    "    game_id = Column(Integer)\n",
    "    min_players = Column(Integer)\n",
    "    max_players = Column(Integer)\n",
    "    rent_price = Column(Integer)"
   ]
  },
  {
   "cell_type": "code",
   "execution_count": null,
   "id": "1c7ba617",
   "metadata": {},
   "outputs": [],
   "source": [
    "# customer table\n",
    "class Customers(Base):\n",
    "    __tablename__ = 'customers'\n",
    "    __table_args__ = {'schema':'customers'}\n",
    "    \n",
    "    customer_id = Column(Integer, primary_key = True)\n",
    "    first_name = Column(String(250))\n",
    "    last_name = Column(String(250))\n",
    "    gender = Column(String(250))\n",
    "    phone = Column(Integer)\n",
    "    email = Column(String(250))"
   ]
  },
  {
   "cell_type": "code",
   "execution_count": null,
   "id": "edacbf54",
   "metadata": {},
   "outputs": [],
   "source": [
    "# staff table\n",
    "class Staff(Base):\n",
    "    __tablename__ = 'staff'\n",
    "    __table_args__ = {'schema':'staff'}\n",
    "    \n",
    "    staff_id = Column(Integer, primary_key = True)\n",
    "    first_name = Column(String(250))\n",
    "    last_name = Column(String(250))\n",
    "    gender = Column(String(250))\n",
    "    phone = Column(Integer)\n",
    "    email = Column(String(250))"
   ]
  },
  {
   "cell_type": "code",
   "execution_count": null,
   "id": "8ddd7eef",
   "metadata": {},
   "outputs": [],
   "source": [
    "# competition table\n",
    "class Competition(Base):\n",
    "    __tablename__ = 'competition'\n",
    "    __table_args__ = {'schema':'competition'}\n",
    "    \n",
    "    competition_id = Column(Integer, primary_key = True)\n",
    "    staff_id = Column(Integer)\n",
    "    game_id = Column(Integer)\n",
    "    date = Column(Datetime)\n",
    "    prize = Column(Integer)"
   ]
  },
  {
   "cell_type": "code",
   "execution_count": null,
   "id": "bbac4ac7",
   "metadata": {},
   "outputs": [],
   "source": [
    "# competition_results table\n",
    "class CompetitionResults(Base):\n",
    "    __tablename__ = 'competition_results'\n",
    "    __table_args__ = {'schema':'competition_results'}\n",
    "    \n",
    "    result_id = Column(Integer, primary_key = True)\n",
    "    competition_id = Column(Integer)\n",
    "    customer_id = Column(Integer)\n",
    "    place = Column(Integer)"
   ]
  },
  {
   "cell_type": "code",
   "execution_count": null,
   "id": "62c8d671",
   "metadata": {},
   "outputs": [],
   "source": [
    "# sale table\n",
    "class Sale(Base):\n",
    "    __tablename__ = 'sale'\n",
    "    __table_args__ = {'schema':'sale'}\n",
    "    \n",
    "    sale_id = Column(Integer, primary_key = True)\n",
    "    customer_id = Column(Integer)\n",
    "    staff_id = Column(Integer)\n",
    "    game_id = Column(Integer)\n",
    "    amount = Column(Integer)\n",
    "    date = Column(Datetime)"
   ]
  }
 ],
 "metadata": {
  "kernelspec": {
   "display_name": "Python 3 (ipykernel)",
   "language": "python",
   "name": "python3"
  },
  "language_info": {
   "codemirror_mode": {
    "name": "ipython",
    "version": 3
   },
   "file_extension": ".py",
   "mimetype": "text/x-python",
   "name": "python",
   "nbconvert_exporter": "python",
   "pygments_lexer": "ipython3",
   "version": "3.9.7"
  }
 },
 "nbformat": 4,
 "nbformat_minor": 5
}
