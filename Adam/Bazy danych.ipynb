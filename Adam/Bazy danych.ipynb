{
 "cells": [
  {
   "cell_type": "code",
   "execution_count": 1,
   "metadata": {},
   "outputs": [],
   "source": [
    "import numpy as np\n",
    "import random\n",
    "import pandas as pd\n",
    "import datetime\n",
    "\n",
    "from calendar import monthrange\n",
    "from dateutil.easter import *"
   ]
  },
  {
   "cell_type": "code",
   "execution_count": 2,
   "metadata": {},
   "outputs": [],
   "source": [
    "HOME = \"C:/Users/Adamek/Desktop/Gameshop_database\""
   ]
  },
  {
   "cell_type": "code",
   "execution_count": 3,
   "metadata": {},
   "outputs": [],
   "source": [
    "DATA = HOME + \"/database\""
   ]
  },
  {
   "cell_type": "code",
   "execution_count": 4,
   "metadata": {},
   "outputs": [],
   "source": [
    "df_games_for_sale = pd.read_csv(DATA + '/games_for_sale.csv')\n",
    "df_customers = pd.read_csv(DATA + '/customer.csv')\n",
    "df_staffs = pd.read_csv(DATA + '/staff.csv')"
   ]
  },
  {
   "cell_type": "code",
   "execution_count": 5,
   "metadata": {},
   "outputs": [],
   "source": [
    "def create_event(dict: dict, competition_id: int, staff_id: int, game_id: int, date, prize: int):\n",
    "    \"\"\"\n",
    "    This function creates a competition event.\n",
    "    \n",
    "    Args:\n",
    "        dict: dictionary containing info about the event;\n",
    "        competition_id: unique key of the event;\n",
    "        staff_id: employee responsible for the event;\n",
    "        date: a specific time when the event occured;\n",
    "        prize: prize pool of the event.\n",
    "        \n",
    "    Returns:\n",
    "        dict: updated dictionary\n",
    "    \"\"\"\n",
    "    \n",
    "    dict['competition_id'].append(competition_id)\n",
    "    dict['staff_id'].append(staff_id)\n",
    "    dict['game_id'].append(game_id)\n",
    "    dict['date'].append(date)\n",
    "    dict['prize'].append(prize)\n",
    "    \n",
    "    return dict"
   ]
  },
  {
   "cell_type": "code",
   "execution_count": 6,
   "metadata": {},
   "outputs": [],
   "source": [
    "def simulate_event(dict: dict, competition_id: int, Players = list):\n",
    "    \"\"\"\n",
    "    This function simulates the results of a specific competition event.\n",
    "    \n",
    "    Args:\n",
    "        dict: dictionary containing info about the event's result.\n",
    "        competition_id: unique key of the event.\n",
    "        Players: customer_ids or team_ids list.\n",
    "        \n",
    "    Returns:\n",
    "        Scores: A dictionary saving places for each participant.\n",
    "    \n",
    "    \"\"\"\n",
    "    Places = np.array( range(1, len(Players)+1) )\n",
    "    np.random.shuffle(Places) #inplace\n",
    "    \n",
    "    Scores = {player:place for (player, place) in zip(Players, Places)}\n",
    "    index = 1\n",
    "    \n",
    "    for player in Scores:\n",
    "        dict['result_id'].append(index)\n",
    "        dict['competition_id'].append(competition_id)\n",
    "        dict['customer_id'].append(player)\n",
    "        dict['place'].append(Scores[player])\n",
    "        index += 1\n",
    "    \n",
    "    return dict\n",
    "                                   "
   ]
  },
  {
   "cell_type": "code",
   "execution_count": 7,
   "metadata": {},
   "outputs": [],
   "source": [
    "def get_fridays_in_a_month(year: int, month: int, max_days: int):\n",
    "    \"\"\"\n",
    "    This function finds all fridays in a specific month.\n",
    "    \n",
    "    Args:\n",
    "        year: an integer specyfying the year.\n",
    "        month: an integer specyfying the month.\n",
    "        max_days: an intiger specyfying an index of the last day.\n",
    "        \n",
    "    Returns:\n",
    "        Fridays: a list of all fridays in the month.\n",
    "    \"\"\"\n",
    "        \n",
    "    count = 1\n",
    "    Fridays = []\n",
    "\n",
    "    while 1:     \n",
    "        day = datetime.date(year, month, count) \n",
    "\n",
    "        if day.weekday() == 4:\n",
    "            break\n",
    "\n",
    "        else:\n",
    "            count += 1\n",
    "\n",
    "    for day in range(count, max_days+1, 7):\n",
    "        Fridays.append( str(datetime.date(year, month, day)) )\n",
    "\n",
    "    return Fridays"
   ]
  },
  {
   "cell_type": "code",
   "execution_count": 8,
   "metadata": {},
   "outputs": [],
   "source": [
    "def get_fridays_in_a_year(year: int):\n",
    "    \"\"\"\n",
    "    This function finds all fridays in a selected year.\n",
    "    \n",
    "    Args:\n",
    "        year: \n",
    "        \n",
    "    Returns:\n",
    "        \n",
    "    \"\"\"\n",
    "    \n",
    "    Months = np.array(range(1,13))\n",
    "    Days_in_month = {month:monthrange(year, month)[1] for month in Months}\n",
    "    \n",
    "    Fridays = []\n",
    "    for month, max_days in Days_in_month.items():\n",
    "        F = get_fridays_in_a_month(year, month, max_days)\n",
    "        \n",
    "        for friday in F:\n",
    "            Fridays.append(friday)\n",
    "            \n",
    "    return Fridays"
   ]
  },
  {
   "cell_type": "code",
   "execution_count": 9,
   "metadata": {},
   "outputs": [],
   "source": [
    "def get_days_for_competition(year: int, abort = True):\n",
    "    \n",
    "    if abort:\n",
    "        \n",
    "        Aborted = [\"01-01\", \"01-06\", \"05-01\", \"05-03\", \"15-08\",\n",
    "                   \"11-01\", \"11-11\", \"12-24\", \"12-25\", \"12-26\"]\n",
    "        \n",
    "        easter_friday = easter(year) + datetime.timedelta(days=-2)\n",
    "        Aborted.append( easter_friday )\n",
    "        \n",
    "    else:\n",
    "        \n",
    "        Aborted = []\n",
    "    \n",
    "    Dates = get_fridays_in_a_year(year)\n",
    "    To_abort = []\n",
    "    \n",
    "    for date in Dates:\n",
    "\n",
    "        if date[5:] in Aborted:\n",
    "            To_abort.append(date)\n",
    "            \n",
    "    for date in To_abort:\n",
    "        Dates.remove(date)\n",
    "    \n",
    "    return Dates"
   ]
  },
  {
   "cell_type": "code",
   "execution_count": 10,
   "metadata": {},
   "outputs": [],
   "source": [
    "def get_games(df, year : int):\n",
    "    \n",
    "    temp_df = df[df.year < year ]\n",
    "    top_df = temp_df.sort_values(by='avg_rating', ascending=False)\n",
    "    top_df.reset_index(drop=True, inplace=True)\n",
    "    \n",
    "    return top_df[[\"game_id\", \"names\", \"avg_rating\", \"min_players\", \"max_players\"]]"
   ]
  },
  {
   "cell_type": "code",
   "execution_count": 29,
   "metadata": {},
   "outputs": [],
   "source": [
    "competition = {'competition_id': [],\n",
    "              'staff_id': [],\n",
    "              'game_id': [],\n",
    "              'date': [],\n",
    "              'prize': []}\n",
    "\n",
    "competition_results = {'result_id': [],\n",
    "                       'competition_id': [],\n",
    "                      'customer_id': [],\n",
    "                      'place': []}\n",
    "\n",
    "number_of_active_players = 30\n",
    "\n",
    "Staff_ids = list(df_staffs.staff_id)\n",
    "Customer_ids = np.random.choice(df_customers.customer_id, size = number_of_active_players)\n",
    "\n",
    "start_date = '2021-06-01'\n",
    "today_date = str(datetime.date.today())\n",
    "\n",
    "today_year = int(today_date[:4])\n",
    "Games = get_games(df_games_for_sale, today_year) \n",
    "Prizes = list(range(100,500,50))\n",
    "\n",
    "Years = np.array(range(2021, today_year+1))\n",
    "Fridays = []\n",
    "\n",
    "for year in Years:\n",
    "    Fridays.extend(get_days_for_competition(year, abort=True))\n",
    "    \n",
    "Dates = [date for date in Fridays if date > start_date]"
   ]
  },
  {
   "cell_type": "code",
   "execution_count": 30,
   "metadata": {},
   "outputs": [],
   "source": [
    "index = 1\n",
    "for date in Dates:\n",
    "    \n",
    "    prize = np.random.choice( Prizes )\n",
    "    \n",
    "    game = np.random.choice(Games.game_id)\n",
    "    \n",
    "    staff = np.random.choice(Staff_ids)\n",
    "    competition = create_event(competition,\n",
    "                               index,\n",
    "                               staff,\n",
    "                               game,\n",
    "                               date,\n",
    "                               prize)\n",
    "    \n",
    "    if date <= today_date:\n",
    "        \n",
    "        min_participants = int(Games[Games.game_id == game].min_players)\n",
    "        max_participants = 3 * int(Games[Games.game_id == game].max_players)\n",
    "\n",
    "        no_participants = max([min_participants+1, int(random.random())*max_participants])\n",
    "        participants = np.random.choice(Customer_ids, size=no_participants)\n",
    "        \n",
    "        competition_results = simulate_event(competition_results, index, participants)\n",
    "        \n",
    "    index += 1"
   ]
  },
  {
   "cell_type": "code",
   "execution_count": 31,
   "metadata": {},
   "outputs": [],
   "source": [
    "Competition = pd.DataFrame(competition)\n",
    "Competition_results = pd.DataFrame(competition_results)"
   ]
  },
  {
   "cell_type": "code",
   "execution_count": 32,
   "metadata": {},
   "outputs": [],
   "source": [
    "Competition.to_csv(DATA + '/competition.csv', index=False)\n",
    "Competition_results.to_csv(DATA + '/competition_results.csv', index=False)"
   ]
  }
 ],
 "metadata": {
  "kernelspec": {
   "display_name": "p3workshop",
   "language": "python",
   "name": "p3workshop"
  },
  "language_info": {
   "codemirror_mode": {
    "name": "ipython",
    "version": 3
   },
   "file_extension": ".py",
   "mimetype": "text/x-python",
   "name": "python",
   "nbconvert_exporter": "python",
   "pygments_lexer": "ipython3",
   "version": "3.9.0"
  }
 },
 "nbformat": 4,
 "nbformat_minor": 4
}
