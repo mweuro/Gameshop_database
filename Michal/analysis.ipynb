{
 "cells": [
  {
   "cell_type": "code",
   "execution_count": 1,
   "id": "7e289604",
   "metadata": {},
   "outputs": [],
   "source": [
    "from sqlalchemy import create_engine, MetaData, Table\n",
    "from sqlalchemy.orm import sessionmaker\n",
    "from urllib.parse import quote\n",
    "\n",
    "import pandas as pd\n",
    "import numpy as np\n",
    "import matplotlib.pyplot as plt\n",
    "import seaborn as sns\n",
    "\n",
    "import warnings\n",
    "warnings.filterwarnings('ignore')"
   ]
  },
  {
   "cell_type": "markdown",
   "id": "9e535714",
   "metadata": {},
   "source": [
    "## Załadowanie bazy danych"
   ]
  },
  {
   "cell_type": "code",
   "execution_count": 2,
   "id": "c8dd1b1b",
   "metadata": {},
   "outputs": [],
   "source": [
    "username = 'team25'\n",
    "password = quote('te@mzs')\n",
    "database = 'team25'\n",
    "host = 'giniewicz.it'\n",
    "port = '3306'\n",
    "\n",
    "engine = create_engine(f'mysql+pymysql://{username}:{password}@{host}:{port}/{database}')\n",
    "\n",
    "metadata = MetaData()\n",
    "games_for_sale = Table('games_for_sale', metadata, autoload_with = engine)\n",
    "games_to_rent = Table('games_to_rent', metadata, autoload_with = engine)\n",
    "customers = Table('customers', metadata, autoload_with = engine)\n",
    "staff = Table('staff', metadata, autoload_with = engine)\n",
    "sale = Table('sale', metadata, autoload_with = engine)\n",
    "rental = Table('rental', metadata, autoload_with = engine)\n",
    "competition = Table('competition', metadata, autoload_with = engine)\n",
    "competition_results = Table('competition_results', metadata, autoload_with = engine)\n",
    "\n",
    "connection = engine.connect()"
   ]
  },
  {
   "cell_type": "code",
   "execution_count": 3,
   "id": "2cb05eb9",
   "metadata": {},
   "outputs": [],
   "source": [
    "\"\"\"Funkcja łącząca dwie tabele po podanych kluczach\"\"\"\n",
    "def join_tables(table1, table2, key1, key2):\n",
    "#     key1, key2 = string(key1), string(key2)\n",
    "    Session = sessionmaker(bind = engine)\n",
    "    session = Session()\n",
    "    query = session.query(table1, table2).filter(getattr(table1.c, key1) == getattr(table2.c, key2)).all()\n",
    "    column_names = query[0].keys()\n",
    "    df = pd.DataFrame(query, columns = column_names)\n",
    "    return df"
   ]
  },
  {
   "cell_type": "code",
   "execution_count": 78,
   "id": "e3c4e5ea",
   "metadata": {},
   "outputs": [],
   "source": [
    "def join_3tables(table1, table2, table3, key1, key2, key3, key4):\n",
    "    Session = sessionmaker(bind = engine)\n",
    "    session = Session()\n",
    "    query = session.query(table1, table2, table3).filter(getattr(table1.c, \n",
    "            key1) == getattr(table2.c, key2)).filter(getattr(table1.c, key3) == getattr(table3.c, key4)).all()\n",
    "    column_names = query[0].keys()\n",
    "    df = pd.DataFrame(query, columns = column_names)\n",
    "    return df"
   ]
  },
  {
   "cell_type": "markdown",
   "id": "034ca4e2",
   "metadata": {},
   "source": [
    "## Problem 1 - ranking na pracownika miesiąca"
   ]
  },
  {
   "cell_type": "markdown",
   "id": "f97264ed",
   "metadata": {},
   "source": [
    "Pracownika miesiąca można rozumieć jako:\n",
    "* tego co sprzedał/wypożyczył największą ilość gier\n",
    "* tego co osiągnął największy przychód z gier"
   ]
  },
  {
   "cell_type": "code",
   "execution_count": 4,
   "id": "758b37cc",
   "metadata": {},
   "outputs": [],
   "source": [
    "\"\"\"Funkcja tworzy wykres słupkowy rankingu dla przykładowego miesiąca\"\"\"\n",
    "def month_ranking_example(df, xlab, year = 2023, month = 5):\n",
    "    month_names = {1 : 'Styczeń',\n",
    "                  2 : 'Luty',\n",
    "                  3 : 'Marzec',\n",
    "                  4 : 'Kwiecień',\n",
    "                  5 : 'Maj',\n",
    "                  6 : 'Czerwiec',\n",
    "                  7 : 'Lipiec',\n",
    "                  8 : 'Sierpień',\n",
    "                  9 : 'Wrzesień', \n",
    "                  10 : 'Październik',\n",
    "                  11 : 'Listopad', \n",
    "                  12 : 'Grudzień'}\n",
    "    df = df.xs(year, level = 'year').xs(month, level = 'month')[:5].sort_values(ascending = False)\n",
    "    plt.style.use('bmh')\n",
    "    fig, ax = plt.subplots(figsize = (15, 7))\n",
    "    ax = sns.barplot(x = df.values, y = df.index, orient='h', palette = ['goldenrod', 'silver', 'sienna', 'powderblue' , 'powderblue'])\n",
    "    ax.bar_label(ax.containers[0], fmt= '%.0f', label_type='edge')\n",
    "    ax.set_xlabel(xlab)\n",
    "    ax.set_ylabel('')\n",
    "    ax.set_title('Ranking miesiąca: ' + month_names[month] + ' ' + str(year))\n",
    "    plt.show()"
   ]
  },
  {
   "cell_type": "code",
   "execution_count": 5,
   "id": "5a8eb40c",
   "metadata": {},
   "outputs": [],
   "source": [
    "df1_sale = join_tables(sale, staff, 'staff_id', 'staff_id')\n",
    "df1_sale = df1_sale.loc[:, ~df1_sale.columns.duplicated()]\n",
    "df1_sale = df1_sale[['staff_id', 'amount', 'date', 'first_name', 'last_name']]\n",
    "# df1_sale.head()"
   ]
  },
  {
   "cell_type": "code",
   "execution_count": 6,
   "id": "9fe315ab",
   "metadata": {},
   "outputs": [],
   "source": [
    "df1_sale['full_name'] = df1_sale['first_name'] + ' ' + df1_sale['last_name']\n",
    "df1_sale = df1_sale.drop(['first_name', 'last_name'], axis = 1)\n",
    "# df1_sale.head()"
   ]
  },
  {
   "cell_type": "code",
   "execution_count": 7,
   "id": "8368bc37",
   "metadata": {},
   "outputs": [
    {
     "data": {
      "text/html": [
       "<div>\n",
       "<style scoped>\n",
       "    .dataframe tbody tr th:only-of-type {\n",
       "        vertical-align: middle;\n",
       "    }\n",
       "\n",
       "    .dataframe tbody tr th {\n",
       "        vertical-align: top;\n",
       "    }\n",
       "\n",
       "    .dataframe thead th {\n",
       "        text-align: right;\n",
       "    }\n",
       "</style>\n",
       "<table border=\"1\" class=\"dataframe\">\n",
       "  <thead>\n",
       "    <tr style=\"text-align: right;\">\n",
       "      <th></th>\n",
       "      <th>staff_id</th>\n",
       "      <th>amount</th>\n",
       "      <th>date</th>\n",
       "      <th>full_name</th>\n",
       "      <th>day</th>\n",
       "      <th>month</th>\n",
       "      <th>year</th>\n",
       "    </tr>\n",
       "  </thead>\n",
       "  <tbody>\n",
       "    <tr>\n",
       "      <th>0</th>\n",
       "      <td>11</td>\n",
       "      <td>67.40</td>\n",
       "      <td>2021-06-02</td>\n",
       "      <td>Mateusz Kowalski</td>\n",
       "      <td>2</td>\n",
       "      <td>6</td>\n",
       "      <td>2021</td>\n",
       "    </tr>\n",
       "    <tr>\n",
       "      <th>1</th>\n",
       "      <td>5</td>\n",
       "      <td>424.80</td>\n",
       "      <td>2021-06-02</td>\n",
       "      <td>Zuzanna Brzozowska</td>\n",
       "      <td>2</td>\n",
       "      <td>6</td>\n",
       "      <td>2021</td>\n",
       "    </tr>\n",
       "    <tr>\n",
       "      <th>2</th>\n",
       "      <td>3</td>\n",
       "      <td>938.40</td>\n",
       "      <td>2021-06-02</td>\n",
       "      <td>Jan Błotny</td>\n",
       "      <td>2</td>\n",
       "      <td>6</td>\n",
       "      <td>2021</td>\n",
       "    </tr>\n",
       "    <tr>\n",
       "      <th>3</th>\n",
       "      <td>13</td>\n",
       "      <td>112.78</td>\n",
       "      <td>2021-06-02</td>\n",
       "      <td>Jakub Kozioł</td>\n",
       "      <td>2</td>\n",
       "      <td>6</td>\n",
       "      <td>2021</td>\n",
       "    </tr>\n",
       "    <tr>\n",
       "      <th>4</th>\n",
       "      <td>8</td>\n",
       "      <td>199.80</td>\n",
       "      <td>2021-06-04</td>\n",
       "      <td>Kacper Reszke</td>\n",
       "      <td>4</td>\n",
       "      <td>6</td>\n",
       "      <td>2021</td>\n",
       "    </tr>\n",
       "  </tbody>\n",
       "</table>\n",
       "</div>"
      ],
      "text/plain": [
       "   staff_id  amount        date           full_name  day  month  year\n",
       "0        11   67.40  2021-06-02    Mateusz Kowalski    2      6  2021\n",
       "1         5  424.80  2021-06-02  Zuzanna Brzozowska    2      6  2021\n",
       "2         3  938.40  2021-06-02          Jan Błotny    2      6  2021\n",
       "3        13  112.78  2021-06-02        Jakub Kozioł    2      6  2021\n",
       "4         8  199.80  2021-06-04       Kacper Reszke    4      6  2021"
      ]
     },
     "execution_count": 7,
     "metadata": {},
     "output_type": "execute_result"
    }
   ],
   "source": [
    "df1_sale['day'] = pd.to_datetime(df1_sale['date']).dt.day\n",
    "df1_sale['month'] = pd.to_datetime(df1_sale['date']).dt.month\n",
    "df1_sale['year'] = pd.to_datetime(df1_sale['date']).dt.year\n",
    "df1_sale.head()"
   ]
  },
  {
   "cell_type": "markdown",
   "id": "29ccc9cd",
   "metadata": {},
   "source": [
    "### Ranking na największy przychód"
   ]
  },
  {
   "cell_type": "code",
   "execution_count": 8,
   "id": "22f99e3d",
   "metadata": {},
   "outputs": [
    {
     "data": {
      "text/plain": [
       "year  month  full_name             \n",
       "2021  6      Aleksander Magdaleński     4167.70\n",
       "             Aleksander Szymaszczyk     2762.26\n",
       "             Antonina Hemmerling        3992.07\n",
       "             Bartosz Hetman             2718.87\n",
       "             Filip Pawlaczyk            1823.59\n",
       "                                         ...   \n",
       "2023  6      Nikodem Pryczek           23746.09\n",
       "             Oliwia Gollasch           19882.18\n",
       "             Tymoteusz Wieczorek       20741.43\n",
       "             Weronika Bloch            22540.10\n",
       "             Zuzanna Brzozowska        24640.12\n",
       "Name: amount, Length: 425, dtype: float64"
      ]
     },
     "execution_count": 8,
     "metadata": {},
     "output_type": "execute_result"
    }
   ],
   "source": [
    "best_staff = df1_sale.groupby(['year', 'month', 'full_name'])['amount'].sum()\n",
    "best_staff"
   ]
  },
  {
   "cell_type": "code",
   "execution_count": 9,
   "id": "29314920",
   "metadata": {},
   "outputs": [
    {
     "data": {
      "text/plain": [
       "full_name\n",
       "Nikodem Pilarz            40842.30\n",
       "Oliwia Gollasch           38333.20\n",
       "Bartosz Hetman            37691.73\n",
       "Nikodem Pryczek           37418.49\n",
       "Miłosz Wojnicki           34242.45\n",
       "Kinga Adamowicz           33804.82\n",
       "Jan Błotny                33764.39\n",
       "Aleksander Szymaszczyk    29321.15\n",
       "Zuzanna Brzozowska        28908.76\n",
       "Aleksander Magdaleński    28533.50\n",
       "Weronika Bloch            27725.76\n",
       "Antonina Hemmerling       27703.42\n",
       "Kacper Reszke             26031.68\n",
       "Jakub Kozioł              23695.34\n",
       "Mateusz Kowalski          22598.88\n",
       "Tymoteusz Wieczorek       20363.93\n",
       "Filip Pawlaczyk           18435.80\n",
       "Name: amount, dtype: float64"
      ]
     },
     "execution_count": 9,
     "metadata": {},
     "output_type": "execute_result"
    }
   ],
   "source": [
    "best_staff.xs(2021, level = 'year').xs(10, level = 'month').sort_values(ascending = False)"
   ]
  },
  {
   "cell_type": "code",
   "execution_count": 10,
   "id": "3ab4492f",
   "metadata": {},
   "outputs": [
    {
     "data": {
      "image/png": "[encoded data removed]",
      "text/plain": [
       "<Figure size 1080x504 with 1 Axes>"
      ]
     },
     "metadata": {
      "needs_background": "light"
     },
     "output_type": "display_data"
    }
   ],
   "source": [
    "month_ranking_example(best_staff, 'Całkowity przychód', 2022, 11)"
   ]
  },
  {
   "cell_type": "markdown",
   "id": "163fdd11",
   "metadata": {},
   "source": [
    "### Ranking na największą ilość sprzedanych gier"
   ]
  },
  {
   "cell_type": "code",
   "execution_count": 11,
   "id": "69cfddb2",
   "metadata": {},
   "outputs": [
    {
     "data": {
      "text/plain": [
       "year  month  full_name             \n",
       "2021  6      Aleksander Magdaleński    10\n",
       "             Aleksander Szymaszczyk    12\n",
       "             Antonina Hemmerling       14\n",
       "             Bartosz Hetman            15\n",
       "             Filip Pawlaczyk           11\n",
       "                                       ..\n",
       "2023  6      Nikodem Pryczek           96\n",
       "             Oliwia Gollasch           83\n",
       "             Tymoteusz Wieczorek       83\n",
       "             Weronika Bloch            91\n",
       "             Zuzanna Brzozowska        78\n",
       "Name: full_name, Length: 425, dtype: int64"
      ]
     },
     "execution_count": 11,
     "metadata": {},
     "output_type": "execute_result"
    }
   ],
   "source": [
    "best_count = df1_sale.groupby(['year', 'month', 'full_name'])['full_name'].count()\n",
    "best_count"
   ]
  },
  {
   "cell_type": "code",
   "execution_count": 12,
   "id": "3374ea2f",
   "metadata": {
    "scrolled": true
   },
   "outputs": [
    {
     "data": {
      "image/png": "[encoded data removed]",
      "text/plain": [
       "<Figure size 1080x504 with 1 Axes>"
      ]
     },
     "metadata": {
      "needs_background": "light"
     },
     "output_type": "display_data"
    }
   ],
   "source": [
    "month_ranking_example(best_count, 'Liczba sprzedanych egzemplarzy', 2022, 11)"
   ]
  },
  {
   "cell_type": "markdown",
   "id": "8c4f594c",
   "metadata": {},
   "source": [
    "## Problem 2 - top 10 zawodników turniejowych"
   ]
  },
  {
   "cell_type": "code",
   "execution_count": null,
   "id": "dcdb6332",
   "metadata": {},
   "outputs": [],
   "source": []
  },
  {
   "cell_type": "markdown",
   "id": "3c18e51b",
   "metadata": {},
   "source": [
    "## Problem 3 - gry najbardziej dochodowe"
   ]
  },
  {
   "cell_type": "markdown",
   "id": "5be1f362",
   "metadata": {},
   "source": [
    "### Sprzedaż"
   ]
  },
  {
   "cell_type": "code",
   "execution_count": 13,
   "id": "d28e02e5",
   "metadata": {},
   "outputs": [
    {
     "data": {
      "text/html": [
       "<div>\n",
       "<style scoped>\n",
       "    .dataframe tbody tr th:only-of-type {\n",
       "        vertical-align: middle;\n",
       "    }\n",
       "\n",
       "    .dataframe tbody tr th {\n",
       "        vertical-align: top;\n",
       "    }\n",
       "\n",
       "    .dataframe thead th {\n",
       "        text-align: right;\n",
       "    }\n",
       "</style>\n",
       "<table border=\"1\" class=\"dataframe\">\n",
       "  <thead>\n",
       "    <tr style=\"text-align: right;\">\n",
       "      <th></th>\n",
       "      <th>name</th>\n",
       "      <th>amount</th>\n",
       "      <th>date</th>\n",
       "    </tr>\n",
       "  </thead>\n",
       "  <tbody>\n",
       "    <tr>\n",
       "      <th>0</th>\n",
       "      <td>Samara</td>\n",
       "      <td>67.40</td>\n",
       "      <td>2021-06-02</td>\n",
       "    </tr>\n",
       "    <tr>\n",
       "      <th>1</th>\n",
       "      <td>Fleet Commander: Nimitz</td>\n",
       "      <td>424.80</td>\n",
       "      <td>2021-06-02</td>\n",
       "    </tr>\n",
       "    <tr>\n",
       "      <th>2</th>\n",
       "      <td>Fire in the East</td>\n",
       "      <td>938.40</td>\n",
       "      <td>2021-06-02</td>\n",
       "    </tr>\n",
       "    <tr>\n",
       "      <th>3</th>\n",
       "      <td>WildLife</td>\n",
       "      <td>112.78</td>\n",
       "      <td>2021-06-02</td>\n",
       "    </tr>\n",
       "    <tr>\n",
       "      <th>4</th>\n",
       "      <td>Barcelona: The Rose of Fire</td>\n",
       "      <td>199.80</td>\n",
       "      <td>2021-06-04</td>\n",
       "    </tr>\n",
       "  </tbody>\n",
       "</table>\n",
       "</div>"
      ],
      "text/plain": [
       "                          name  amount        date\n",
       "0                       Samara   67.40  2021-06-02\n",
       "1      Fleet Commander: Nimitz  424.80  2021-06-02\n",
       "2             Fire in the East  938.40  2021-06-02\n",
       "3                     WildLife  112.78  2021-06-02\n",
       "4  Barcelona: The Rose of Fire  199.80  2021-06-04"
      ]
     },
     "execution_count": 13,
     "metadata": {},
     "output_type": "execute_result"
    }
   ],
   "source": [
    "df3_sale = join_tables(games_for_sale, sale, 'game_id', 'game_id')\n",
    "df3_sale = df3_sale.loc[:, ~df3_sale.columns.duplicated()]\n",
    "df3_sale = df3_sale[['name', 'amount', 'date']]\n",
    "df3_sale.head()"
   ]
  },
  {
   "cell_type": "code",
   "execution_count": 57,
   "id": "62d7821b",
   "metadata": {},
   "outputs": [
    {
     "data": {
      "text/html": [
       "<div>\n",
       "<style scoped>\n",
       "    .dataframe tbody tr th:only-of-type {\n",
       "        vertical-align: middle;\n",
       "    }\n",
       "\n",
       "    .dataframe tbody tr th {\n",
       "        vertical-align: top;\n",
       "    }\n",
       "\n",
       "    .dataframe thead th {\n",
       "        text-align: right;\n",
       "    }\n",
       "</style>\n",
       "<table border=\"1\" class=\"dataframe\">\n",
       "  <thead>\n",
       "    <tr style=\"text-align: right;\">\n",
       "      <th></th>\n",
       "      <th>amount</th>\n",
       "    </tr>\n",
       "    <tr>\n",
       "      <th>name</th>\n",
       "      <th></th>\n",
       "    </tr>\n",
       "  </thead>\n",
       "  <tbody>\n",
       "    <tr>\n",
       "      <th>Case Blue</th>\n",
       "      <td>124052.00</td>\n",
       "    </tr>\n",
       "    <tr>\n",
       "      <th>Tales of the Arabian Nights</th>\n",
       "      <td>106507.84</td>\n",
       "    </tr>\n",
       "    <tr>\n",
       "      <th>Warhammer Quest: Shadows Over Hammerhal</th>\n",
       "      <td>93229.32</td>\n",
       "    </tr>\n",
       "    <tr>\n",
       "      <th>Titan</th>\n",
       "      <td>92631.00</td>\n",
       "    </tr>\n",
       "    <tr>\n",
       "      <th>Space Hulk (fourth edition)</th>\n",
       "      <td>80780.05</td>\n",
       "    </tr>\n",
       "  </tbody>\n",
       "</table>\n",
       "</div>"
      ],
      "text/plain": [
       "                                            amount\n",
       "name                                              \n",
       "Case Blue                                124052.00\n",
       "Tales of the Arabian Nights              106507.84\n",
       "Warhammer Quest: Shadows Over Hammerhal   93229.32\n",
       "Titan                                     92631.00\n",
       "Space Hulk (fourth edition)               80780.05"
      ]
     },
     "execution_count": 57,
     "metadata": {},
     "output_type": "execute_result"
    }
   ],
   "source": [
    "best5 = df3_sale.groupby('name').sum().sort_values(by = 'amount', ascending = False)[:5]\n",
    "best5"
   ]
  },
  {
   "cell_type": "code",
   "execution_count": 59,
   "id": "819b5143",
   "metadata": {},
   "outputs": [
    {
     "data": {
      "text/html": [
       "<div>\n",
       "<style scoped>\n",
       "    .dataframe tbody tr th:only-of-type {\n",
       "        vertical-align: middle;\n",
       "    }\n",
       "\n",
       "    .dataframe tbody tr th {\n",
       "        vertical-align: top;\n",
       "    }\n",
       "\n",
       "    .dataframe thead th {\n",
       "        text-align: right;\n",
       "    }\n",
       "</style>\n",
       "<table border=\"1\" class=\"dataframe\">\n",
       "  <thead>\n",
       "    <tr style=\"text-align: right;\">\n",
       "      <th></th>\n",
       "      <th></th>\n",
       "      <th>amount</th>\n",
       "    </tr>\n",
       "    <tr>\n",
       "      <th>name</th>\n",
       "      <th>date</th>\n",
       "      <th></th>\n",
       "    </tr>\n",
       "  </thead>\n",
       "  <tbody>\n",
       "    <tr>\n",
       "      <th rowspan=\"5\" valign=\"top\">Case Blue</th>\n",
       "      <th>2021-09-23</th>\n",
       "      <td>3448.00</td>\n",
       "    </tr>\n",
       "    <tr>\n",
       "      <th>2021-09-28</th>\n",
       "      <td>3442.00</td>\n",
       "    </tr>\n",
       "    <tr>\n",
       "      <th>2021-10-08</th>\n",
       "      <td>3441.00</td>\n",
       "    </tr>\n",
       "    <tr>\n",
       "      <th>2021-10-26</th>\n",
       "      <td>6891.00</td>\n",
       "    </tr>\n",
       "    <tr>\n",
       "      <th>2021-12-28</th>\n",
       "      <td>3442.00</td>\n",
       "    </tr>\n",
       "    <tr>\n",
       "      <th>...</th>\n",
       "      <th>...</th>\n",
       "      <td>...</td>\n",
       "    </tr>\n",
       "    <tr>\n",
       "      <th rowspan=\"5\" valign=\"top\">Warhammer Quest: Shadows Over Hammerhal</th>\n",
       "      <th>2023-02-22</th>\n",
       "      <td>3326.69</td>\n",
       "    </tr>\n",
       "    <tr>\n",
       "      <th>2023-04-03</th>\n",
       "      <td>3329.69</td>\n",
       "    </tr>\n",
       "    <tr>\n",
       "      <th>2023-04-11</th>\n",
       "      <td>3328.69</td>\n",
       "    </tr>\n",
       "    <tr>\n",
       "      <th>2023-04-18</th>\n",
       "      <td>3327.69</td>\n",
       "    </tr>\n",
       "    <tr>\n",
       "      <th>2023-05-04</th>\n",
       "      <td>3325.69</td>\n",
       "    </tr>\n",
       "  </tbody>\n",
       "</table>\n",
       "<p>177 rows × 1 columns</p>\n",
       "</div>"
      ],
      "text/plain": [
       "                                                     amount\n",
       "name                                    date               \n",
       "Case Blue                               2021-09-23  3448.00\n",
       "                                        2021-09-28  3442.00\n",
       "                                        2021-10-08  3441.00\n",
       "                                        2021-10-26  6891.00\n",
       "                                        2021-12-28  3442.00\n",
       "...                                                     ...\n",
       "Warhammer Quest: Shadows Over Hammerhal 2023-02-22  3326.69\n",
       "                                        2023-04-03  3329.69\n",
       "                                        2023-04-11  3328.69\n",
       "                                        2023-04-18  3327.69\n",
       "                                        2023-05-04  3325.69\n",
       "\n",
       "[177 rows x 1 columns]"
      ]
     },
     "execution_count": 59,
     "metadata": {},
     "output_type": "execute_result"
    }
   ],
   "source": [
    "best5_timelapse = df3_sale[df3_sale.name.isin(best5.index) == True]\n",
    "best5_timelapse = best5_timelapse.groupby(['name', 'date']).sum()\n",
    "best5_timelapse"
   ]
  },
  {
   "cell_type": "code",
   "execution_count": 61,
   "id": "bb6e5379",
   "metadata": {},
   "outputs": [
    {
     "data": {
      "image/png": "[encoded data removed]",
      "text/plain": [
       "<Figure size 1440x504 with 1 Axes>"
      ]
     },
     "metadata": {
      "needs_background": "light"
     },
     "output_type": "display_data"
    }
   ],
   "source": [
    "plt.style.use('bmh')\n",
    "fig, ax = plt.subplots(figsize = (20, 7))\n",
    "for game in best5.index:\n",
    "    subgame = best5_timelapse.xs(game, level = 'name').cumsum()\n",
    "    ax.step(subgame.index, subgame.amount, label = game)\n",
    "ax.set_xlabel('Data')\n",
    "ax.set_ylabel('Przychód')\n",
    "ax.legend()\n",
    "plt.show()"
   ]
  },
  {
   "cell_type": "markdown",
   "id": "677c38e0",
   "metadata": {},
   "source": [
    "### Wynajem"
   ]
  },
  {
   "cell_type": "code",
   "execution_count": 95,
   "id": "dab39662",
   "metadata": {},
   "outputs": [
    {
     "data": {
      "text/html": [
       "<div>\n",
       "<style scoped>\n",
       "    .dataframe tbody tr th:only-of-type {\n",
       "        vertical-align: middle;\n",
       "    }\n",
       "\n",
       "    .dataframe tbody tr th {\n",
       "        vertical-align: top;\n",
       "    }\n",
       "\n",
       "    .dataframe thead th {\n",
       "        text-align: right;\n",
       "    }\n",
       "</style>\n",
       "<table border=\"1\" class=\"dataframe\">\n",
       "  <thead>\n",
       "    <tr style=\"text-align: right;\">\n",
       "      <th></th>\n",
       "      <th>name</th>\n",
       "      <th>rent_price</th>\n",
       "      <th>rental_date</th>\n",
       "      <th>return_date</th>\n",
       "    </tr>\n",
       "  </thead>\n",
       "  <tbody>\n",
       "    <tr>\n",
       "      <th>0</th>\n",
       "      <td>Citadels</td>\n",
       "      <td>2</td>\n",
       "      <td>2021-06-08</td>\n",
       "      <td>2021-06-09</td>\n",
       "    </tr>\n",
       "    <tr>\n",
       "      <th>1</th>\n",
       "      <td>Rivet Wars: Eastern Front</td>\n",
       "      <td>5</td>\n",
       "      <td>2021-06-09</td>\n",
       "      <td>2021-06-13</td>\n",
       "    </tr>\n",
       "    <tr>\n",
       "      <th>2</th>\n",
       "      <td>Merkator</td>\n",
       "      <td>5</td>\n",
       "      <td>2021-06-11</td>\n",
       "      <td>2021-06-19</td>\n",
       "    </tr>\n",
       "    <tr>\n",
       "      <th>3</th>\n",
       "      <td>Band of Brothers: Screaming Eagles</td>\n",
       "      <td>5</td>\n",
       "      <td>2021-06-11</td>\n",
       "      <td>2021-06-12</td>\n",
       "    </tr>\n",
       "    <tr>\n",
       "      <th>4</th>\n",
       "      <td>Merchants &amp; Marauders</td>\n",
       "      <td>5</td>\n",
       "      <td>2021-06-14</td>\n",
       "      <td>2021-06-17</td>\n",
       "    </tr>\n",
       "  </tbody>\n",
       "</table>\n",
       "</div>"
      ],
      "text/plain": [
       "                                 name  rent_price rental_date return_date\n",
       "0                            Citadels           2  2021-06-08  2021-06-09\n",
       "1           Rivet Wars: Eastern Front           5  2021-06-09  2021-06-13\n",
       "2                            Merkator           5  2021-06-11  2021-06-19\n",
       "3  Band of Brothers: Screaming Eagles           5  2021-06-11  2021-06-12\n",
       "4               Merchants & Marauders           5  2021-06-14  2021-06-17"
      ]
     },
     "execution_count": 95,
     "metadata": {},
     "output_type": "execute_result"
    }
   ],
   "source": [
    "df3_rent = join_3tables(games_to_rent, games_for_sale, rental, 'game_id', 'game_id', 'item_id', 'item_id')\n",
    "df3_rent = df3_rent.loc[:, ~df3_rent.columns.duplicated()]\n",
    "df3_rent = df3_rent[['name', 'rent_price', 'rental_date', 'return_date']]\n",
    "df3_rent.head()"
   ]
  },
  {
   "cell_type": "code",
   "execution_count": 96,
   "id": "8a129446",
   "metadata": {},
   "outputs": [
    {
     "data": {
      "text/html": [
       "<div>\n",
       "<style scoped>\n",
       "    .dataframe tbody tr th:only-of-type {\n",
       "        vertical-align: middle;\n",
       "    }\n",
       "\n",
       "    .dataframe tbody tr th {\n",
       "        vertical-align: top;\n",
       "    }\n",
       "\n",
       "    .dataframe thead th {\n",
       "        text-align: right;\n",
       "    }\n",
       "</style>\n",
       "<table border=\"1\" class=\"dataframe\">\n",
       "  <thead>\n",
       "    <tr style=\"text-align: right;\">\n",
       "      <th></th>\n",
       "      <th>name</th>\n",
       "      <th>return_date</th>\n",
       "      <th>income</th>\n",
       "    </tr>\n",
       "  </thead>\n",
       "  <tbody>\n",
       "    <tr>\n",
       "      <th>0</th>\n",
       "      <td>Citadels</td>\n",
       "      <td>2021-06-09</td>\n",
       "      <td>2</td>\n",
       "    </tr>\n",
       "    <tr>\n",
       "      <th>1</th>\n",
       "      <td>Rivet Wars: Eastern Front</td>\n",
       "      <td>2021-06-13</td>\n",
       "      <td>20</td>\n",
       "    </tr>\n",
       "    <tr>\n",
       "      <th>2</th>\n",
       "      <td>Merkator</td>\n",
       "      <td>2021-06-19</td>\n",
       "      <td>40</td>\n",
       "    </tr>\n",
       "    <tr>\n",
       "      <th>3</th>\n",
       "      <td>Band of Brothers: Screaming Eagles</td>\n",
       "      <td>2021-06-12</td>\n",
       "      <td>5</td>\n",
       "    </tr>\n",
       "    <tr>\n",
       "      <th>4</th>\n",
       "      <td>Merchants &amp; Marauders</td>\n",
       "      <td>2021-06-17</td>\n",
       "      <td>15</td>\n",
       "    </tr>\n",
       "  </tbody>\n",
       "</table>\n",
       "</div>"
      ],
      "text/plain": [
       "                                 name return_date  income\n",
       "0                            Citadels  2021-06-09       2\n",
       "1           Rivet Wars: Eastern Front  2021-06-13      20\n",
       "2                            Merkator  2021-06-19      40\n",
       "3  Band of Brothers: Screaming Eagles  2021-06-12       5\n",
       "4               Merchants & Marauders  2021-06-17      15"
      ]
     },
     "execution_count": 96,
     "metadata": {},
     "output_type": "execute_result"
    }
   ],
   "source": [
    "df3_rent['days'] = (df3_rent['return_date'] - df3_rent['rental_date']).dt.days\n",
    "df3_rent['income'] = df3_rent['rent_price']*df3_rent['days']\n",
    "df3_rent = df3_rent.drop(['rent_price', 'rental_date', 'days'], axis = 1)\n",
    "df3_rent.head()"
   ]
  },
  {
   "cell_type": "code",
   "execution_count": 97,
   "id": "fdd1d4e2",
   "metadata": {},
   "outputs": [
    {
     "data": {
      "text/html": [
       "<div>\n",
       "<style scoped>\n",
       "    .dataframe tbody tr th:only-of-type {\n",
       "        vertical-align: middle;\n",
       "    }\n",
       "\n",
       "    .dataframe tbody tr th {\n",
       "        vertical-align: top;\n",
       "    }\n",
       "\n",
       "    .dataframe thead th {\n",
       "        text-align: right;\n",
       "    }\n",
       "</style>\n",
       "<table border=\"1\" class=\"dataframe\">\n",
       "  <thead>\n",
       "    <tr style=\"text-align: right;\">\n",
       "      <th></th>\n",
       "      <th>income</th>\n",
       "    </tr>\n",
       "    <tr>\n",
       "      <th>name</th>\n",
       "      <th></th>\n",
       "    </tr>\n",
       "  </thead>\n",
       "  <tbody>\n",
       "    <tr>\n",
       "      <th>Mombasa</th>\n",
       "      <td>3850</td>\n",
       "    </tr>\n",
       "    <tr>\n",
       "      <th>Space Hulk (third edition)</th>\n",
       "      <td>2700</td>\n",
       "    </tr>\n",
       "    <tr>\n",
       "      <th>War of the Ring (Second Edition)</th>\n",
       "      <td>2450</td>\n",
       "    </tr>\n",
       "    <tr>\n",
       "      <th>Ninjato</th>\n",
       "      <td>2400</td>\n",
       "    </tr>\n",
       "    <tr>\n",
       "      <th>Orléans</th>\n",
       "      <td>2375</td>\n",
       "    </tr>\n",
       "  </tbody>\n",
       "</table>\n",
       "</div>"
      ],
      "text/plain": [
       "                                  income\n",
       "name                                    \n",
       "Mombasa                             3850\n",
       "Space Hulk (third edition)          2700\n",
       "War of the Ring (Second Edition)    2450\n",
       "Ninjato                             2400\n",
       "Orléans                             2375"
      ]
     },
     "execution_count": 97,
     "metadata": {},
     "output_type": "execute_result"
    }
   ],
   "source": [
    "best5_rent = df3_rent.groupby('name').sum().sort_values(by = 'income', ascending = False)[:5]\n",
    "best5_rent"
   ]
  },
  {
   "cell_type": "code",
   "execution_count": 100,
   "id": "26ba2bff",
   "metadata": {},
   "outputs": [
    {
     "data": {
      "text/html": [
       "<div>\n",
       "<style scoped>\n",
       "    .dataframe tbody tr th:only-of-type {\n",
       "        vertical-align: middle;\n",
       "    }\n",
       "\n",
       "    .dataframe tbody tr th {\n",
       "        vertical-align: top;\n",
       "    }\n",
       "\n",
       "    .dataframe thead th {\n",
       "        text-align: right;\n",
       "    }\n",
       "</style>\n",
       "<table border=\"1\" class=\"dataframe\">\n",
       "  <thead>\n",
       "    <tr style=\"text-align: right;\">\n",
       "      <th></th>\n",
       "      <th></th>\n",
       "      <th>income</th>\n",
       "    </tr>\n",
       "    <tr>\n",
       "      <th>name</th>\n",
       "      <th>return_date</th>\n",
       "      <th></th>\n",
       "    </tr>\n",
       "  </thead>\n",
       "  <tbody>\n",
       "    <tr>\n",
       "      <th rowspan=\"5\" valign=\"top\">Mombasa</th>\n",
       "      <th>2021-08-07</th>\n",
       "      <td>10</td>\n",
       "    </tr>\n",
       "    <tr>\n",
       "      <th>2021-08-09</th>\n",
       "      <td>30</td>\n",
       "    </tr>\n",
       "    <tr>\n",
       "      <th>2021-08-30</th>\n",
       "      <td>30</td>\n",
       "    </tr>\n",
       "    <tr>\n",
       "      <th>2021-09-25</th>\n",
       "      <td>30</td>\n",
       "    </tr>\n",
       "    <tr>\n",
       "      <th>2021-09-30</th>\n",
       "      <td>30</td>\n",
       "    </tr>\n",
       "    <tr>\n",
       "      <th>...</th>\n",
       "      <th>...</th>\n",
       "      <td>...</td>\n",
       "    </tr>\n",
       "    <tr>\n",
       "      <th rowspan=\"5\" valign=\"top\">War of the Ring (Second Edition)</th>\n",
       "      <th>2023-05-25</th>\n",
       "      <td>30</td>\n",
       "    </tr>\n",
       "    <tr>\n",
       "      <th>2023-05-29</th>\n",
       "      <td>90</td>\n",
       "    </tr>\n",
       "    <tr>\n",
       "      <th>2023-06-01</th>\n",
       "      <td>30</td>\n",
       "    </tr>\n",
       "    <tr>\n",
       "      <th>2023-06-04</th>\n",
       "      <td>20</td>\n",
       "    </tr>\n",
       "    <tr>\n",
       "      <th>2023-06-05</th>\n",
       "      <td>30</td>\n",
       "    </tr>\n",
       "  </tbody>\n",
       "</table>\n",
       "<p>498 rows × 1 columns</p>\n",
       "</div>"
      ],
      "text/plain": [
       "                                              income\n",
       "name                             return_date        \n",
       "Mombasa                          2021-08-07       10\n",
       "                                 2021-08-09       30\n",
       "                                 2021-08-30       30\n",
       "                                 2021-09-25       30\n",
       "                                 2021-09-30       30\n",
       "...                                              ...\n",
       "War of the Ring (Second Edition) 2023-05-25       30\n",
       "                                 2023-05-29       90\n",
       "                                 2023-06-01       30\n",
       "                                 2023-06-04       20\n",
       "                                 2023-06-05       30\n",
       "\n",
       "[498 rows x 1 columns]"
      ]
     },
     "execution_count": 100,
     "metadata": {},
     "output_type": "execute_result"
    }
   ],
   "source": [
    "best5_rent_timelapse = df3_rent[df3_rent.name.isin(best5_rent.index) == True]\n",
    "best5_rent_timelapse = best5_rent_timelapse.groupby(['name', 'return_date']).sum()\n",
    "best5_rent_timelapse"
   ]
  },
  {
   "cell_type": "code",
   "execution_count": 101,
   "id": "2e522c3b",
   "metadata": {},
   "outputs": [
    {
     "data": {
      "image/png": "[encoded data removed]",
      "text/plain": [
       "<Figure size 1440x504 with 1 Axes>"
      ]
     },
     "metadata": {
      "needs_background": "light"
     },
     "output_type": "display_data"
    }
   ],
   "source": [
    "plt.style.use('bmh')\n",
    "fig, ax = plt.subplots(figsize = (20, 7))\n",
    "for game in best5_rent.index:\n",
    "    subgame = best5_rent_timelapse.xs(game, level = 'name').cumsum()\n",
    "    ax.step(subgame.index, subgame.income, label = game)\n",
    "ax.set_xlabel('Data')\n",
    "ax.set_ylabel('Przychód')\n",
    "ax.legend()\n",
    "plt.show()"
   ]
  },
  {
   "cell_type": "markdown",
   "id": "5fb31d9d",
   "metadata": {},
   "source": [
    "## Problem 4 - najpopularniejsze kategorie"
   ]
  },
  {
   "cell_type": "code",
   "execution_count": 66,
   "id": "0e46e371",
   "metadata": {},
   "outputs": [],
   "source": [
    "def best_categories(df): # podać dataframe z kolumną category\n",
    "    categories = df.category.values\n",
    "    splitted = []\n",
    "    for category in categories:\n",
    "        category_split = category.split(', ')\n",
    "        for indice in category_split:\n",
    "            splitted.append(indice)\n",
    "    splitted = np.array(splitted)\n",
    "    splitted_series = pd.DataFrame(splitted)\n",
    "    splitted_series.columns = ['Category']\n",
    "    \n",
    "    popularity = splitted_series.value_counts().reset_index()\n",
    "    popularity.columns = ['Category', 'Count']\n",
    "    first10 = popularity[:10]\n",
    "    \n",
    "    plt.style.use('bmh')\n",
    "    fig, ax = plt.subplots()\n",
    "    ax.bar(first10['Category'], first10['Count'])\n",
    "    ax.set_xticklabels(first10['Category'], rotation = 90)\n",
    "    ax.set_ylabel('Number of games')\n",
    "    plt.show()"
   ]
  },
  {
   "cell_type": "code",
   "execution_count": 78,
   "id": "478b7e72",
   "metadata": {},
   "outputs": [
    {
     "data": {
      "text/html": [
       "<div>\n",
       "<style scoped>\n",
       "    .dataframe tbody tr th:only-of-type {\n",
       "        vertical-align: middle;\n",
       "    }\n",
       "\n",
       "    .dataframe tbody tr th {\n",
       "        vertical-align: top;\n",
       "    }\n",
       "\n",
       "    .dataframe thead th {\n",
       "        text-align: right;\n",
       "    }\n",
       "</style>\n",
       "<table border=\"1\" class=\"dataframe\">\n",
       "  <thead>\n",
       "    <tr style=\"text-align: right;\">\n",
       "      <th></th>\n",
       "      <th>game_id</th>\n",
       "      <th>name</th>\n",
       "      <th>description</th>\n",
       "      <th>min_players</th>\n",
       "      <th>max_players</th>\n",
       "      <th>avg_time</th>\n",
       "      <th>avg_rating</th>\n",
       "      <th>age</th>\n",
       "      <th>availability</th>\n",
       "      <th>category</th>\n",
       "      <th>price</th>\n",
       "      <th>rent_price</th>\n",
       "      <th>sale_id</th>\n",
       "      <th>customer_id</th>\n",
       "      <th>staff_id</th>\n",
       "      <th>amount</th>\n",
       "      <th>date</th>\n",
       "    </tr>\n",
       "  </thead>\n",
       "  <tbody>\n",
       "    <tr>\n",
       "      <th>0</th>\n",
       "      <td>177490</td>\n",
       "      <td>Samara</td>\n",
       "      <td>Manage time, talent, and tools to efficiently ...</td>\n",
       "      <td>2</td>\n",
       "      <td>5</td>\n",
       "      <td>50</td>\n",
       "      <td>6.37790</td>\n",
       "      <td>10</td>\n",
       "      <td>759</td>\n",
       "      <td>City Building, Medieval</td>\n",
       "      <td>44.40</td>\n",
       "      <td>2</td>\n",
       "      <td>1</td>\n",
       "      <td>NaN</td>\n",
       "      <td>11</td>\n",
       "      <td>67.40</td>\n",
       "      <td>2021-06-02</td>\n",
       "    </tr>\n",
       "    <tr>\n",
       "      <th>1</th>\n",
       "      <td>105023</td>\n",
       "      <td>Fleet Commander: Nimitz</td>\n",
       "      <td>None</td>\n",
       "      <td>1</td>\n",
       "      <td>1</td>\n",
       "      <td>180</td>\n",
       "      <td>6.97894</td>\n",
       "      <td>0</td>\n",
       "      <td>627</td>\n",
       "      <td>Nautical, Wargame, World War II</td>\n",
       "      <td>421.80</td>\n",
       "      <td>5</td>\n",
       "      <td>2</td>\n",
       "      <td>NaN</td>\n",
       "      <td>5</td>\n",
       "      <td>424.80</td>\n",
       "      <td>2021-06-02</td>\n",
       "    </tr>\n",
       "    <tr>\n",
       "      <th>2</th>\n",
       "      <td>8993</td>\n",
       "      <td>Fire in the East</td>\n",
       "      <td>None</td>\n",
       "      <td>2</td>\n",
       "      <td>4</td>\n",
       "      <td>3000</td>\n",
       "      <td>7.47978</td>\n",
       "      <td>12</td>\n",
       "      <td>669</td>\n",
       "      <td>Wargame, World War II</td>\n",
       "      <td>932.40</td>\n",
       "      <td>10</td>\n",
       "      <td>3</td>\n",
       "      <td>NaN</td>\n",
       "      <td>3</td>\n",
       "      <td>938.40</td>\n",
       "      <td>2021-06-02</td>\n",
       "    </tr>\n",
       "    <tr>\n",
       "      <th>3</th>\n",
       "      <td>3236</td>\n",
       "      <td>WildLife</td>\n",
       "      <td>Fight for survival as one of six animal (or hu...</td>\n",
       "      <td>2</td>\n",
       "      <td>6</td>\n",
       "      <td>120</td>\n",
       "      <td>6.68021</td>\n",
       "      <td>10</td>\n",
       "      <td>1629</td>\n",
       "      <td>Animals, Prehistoric</td>\n",
       "      <td>110.78</td>\n",
       "      <td>5</td>\n",
       "      <td>4</td>\n",
       "      <td>NaN</td>\n",
       "      <td>13</td>\n",
       "      <td>112.78</td>\n",
       "      <td>2021-06-02</td>\n",
       "    </tr>\n",
       "    <tr>\n",
       "      <th>4</th>\n",
       "      <td>205078</td>\n",
       "      <td>Barcelona: The Rose of Fire</td>\n",
       "      <td>None</td>\n",
       "      <td>2</td>\n",
       "      <td>4</td>\n",
       "      <td>90</td>\n",
       "      <td>6.55020</td>\n",
       "      <td>10</td>\n",
       "      <td>325</td>\n",
       "      <td>City Building</td>\n",
       "      <td>199.80</td>\n",
       "      <td>5</td>\n",
       "      <td>5</td>\n",
       "      <td>NaN</td>\n",
       "      <td>8</td>\n",
       "      <td>199.80</td>\n",
       "      <td>2021-06-04</td>\n",
       "    </tr>\n",
       "  </tbody>\n",
       "</table>\n",
       "</div>"
      ],
      "text/plain": [
       "   game_id                         name  \\\n",
       "0   177490                       Samara   \n",
       "1   105023      Fleet Commander: Nimitz   \n",
       "2     8993             Fire in the East   \n",
       "3     3236                     WildLife   \n",
       "4   205078  Barcelona: The Rose of Fire   \n",
       "\n",
       "                                         description  min_players  \\\n",
       "0  Manage time, talent, and tools to efficiently ...            2   \n",
       "1                                               None            1   \n",
       "2                                               None            2   \n",
       "3  Fight for survival as one of six animal (or hu...            2   \n",
       "4                                               None            2   \n",
       "\n",
       "   max_players  avg_time  avg_rating  age  availability  \\\n",
       "0            5        50     6.37790   10           759   \n",
       "1            1       180     6.97894    0           627   \n",
       "2            4      3000     7.47978   12           669   \n",
       "3            6       120     6.68021   10          1629   \n",
       "4            4        90     6.55020   10           325   \n",
       "\n",
       "                          category   price  rent_price  sale_id  customer_id  \\\n",
       "0          City Building, Medieval   44.40           2        1          NaN   \n",
       "1  Nautical, Wargame, World War II  421.80           5        2          NaN   \n",
       "2            Wargame, World War II  932.40          10        3          NaN   \n",
       "3             Animals, Prehistoric  110.78           5        4          NaN   \n",
       "4                    City Building  199.80           5        5          NaN   \n",
       "\n",
       "   staff_id  amount        date  \n",
       "0        11   67.40  2021-06-02  \n",
       "1         5  424.80  2021-06-02  \n",
       "2         3  938.40  2021-06-02  \n",
       "3        13  112.78  2021-06-02  \n",
       "4         8  199.80  2021-06-04  "
      ]
     },
     "execution_count": 78,
     "metadata": {},
     "output_type": "execute_result"
    }
   ],
   "source": [
    "df4 = join_tables(games_for_sale, sale, 'game_id', 'game_id')\n",
    "df4 = df4.loc[:, ~df4.columns.duplicated()]\n",
    "df4.head()"
   ]
  },
  {
   "cell_type": "code",
   "execution_count": 67,
   "id": "f9d651f9",
   "metadata": {},
   "outputs": [
    {
     "data": {
      "image/png": "[encoded data removed]",
      "text/plain": [
       "<Figure size 432x288 with 1 Axes>"
      ]
     },
     "metadata": {
      "needs_background": "light"
     },
     "output_type": "display_data"
    }
   ],
   "source": [
    "ctgr = best_categories(df4)\n",
    "ctgr"
   ]
  },
  {
   "cell_type": "markdown",
   "id": "f9f642b8",
   "metadata": {},
   "source": [
    "## Problem 5 - analiza sprzedaży + predykcja"
   ]
  }
 ],
 "metadata": {
  "kernelspec": {
   "display_name": "Python 3 (ipykernel)",
   "language": "python",
   "name": "python3"
  },
  "language_info": {
   "codemirror_mode": {
    "name": "ipython",
    "version": 3
   },
   "file_extension": ".py",
   "mimetype": "text/x-python",
   "name": "python",
   "nbconvert_exporter": "python",
   "pygments_lexer": "ipython3",
   "version": "3.9.7"
  }
 },
 "nbformat": 4,
 "nbformat_minor": 5
}
